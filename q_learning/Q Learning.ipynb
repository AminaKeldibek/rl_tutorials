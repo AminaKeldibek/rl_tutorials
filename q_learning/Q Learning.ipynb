{
 "cells": [
  {
   "cell_type": "markdown",
   "id": "12326d05-5618-4070-9cc0-e1a7c16bfc8e",
   "metadata": {},
   "source": [
    "# Q Learning From Scratch in Python\n",
    "\n",
    "In this tutorial you will: \n",
    "1. Implement Q learning in Python from scratch.\n",
    "\n",
    "2. Train and evaluate the Q Learning agent for playing on a frozen lake, driving a taxi and taking it on a cliff walk.\n",
    "\n",
    "\n",
    "Let's look at the Q Learning pseudocode first:\n",
    "\n",
    "<font color='blue'>**Q Learning Pseudocode**:<font>\n",
    "    \n",
    "    \n",
    "Input:  step size $\\alpha$ withing range (0, 1], small $\\gamma$ > 0\n",
    "\n",
    "\n",
    "Initialize for all $s\\in S$ and $a\\in A$:    \n",
    ">$Q(s, a)$ <- arbitrary  \n",
    "\n",
    "Loop for each episode until S is terminal: \n",
    ">initialize S\n",
    "    \n",
    ">loop for each step of episode:\n",
    ">>choose A from S using policy derived from Q (epsilon greedy)\n",
    "    \n",
    ">>take action A, observe R, S'\n",
    "    \n",
    ">>$Q(s, a)$ <- $Q(s, a)$  + $\\alpha$[R + $\\gamma$ max_a Q(S', a) - Q(S, a)]\n",
    "\n",
    ">> S = S'\n",
    "\n",
    "\n",
    " \n",
    "\n",
    "\n",
    "\n",
    "# Packages\n",
    "\n",
    "For this tutorial we will use:\n",
    "1. **gym**: this library is a collection of test problems — environments — that you can use to work out your reinforcement learning algorithms.\n",
    "2. **numpy**: the fundamental package for scientific computing with Python;\n",
    "4. **bokeh**: library for creating interactive visualizations;\n",
    "5. **time**: module that provides various time-related functions;\n",
    "\n",
    "*To run this notebook, make sure you have installed these packages.*"
   ]
  },
  {
   "cell_type": "code",
   "execution_count": 2,
   "id": "13c5c3bc-7ff9-47c1-86cb-de4003c31dc6",
   "metadata": {},
   "outputs": [
    {
     "data": {
      "text/html": [
       "\n",
       "    <div class=\"bk-root\">\n",
       "        <a href=\"https://bokeh.org\" target=\"_blank\" class=\"bk-logo bk-logo-small bk-logo-notebook\"></a>\n",
       "        <span id=\"1002\">Loading BokehJS ...</span>\n",
       "    </div>"
      ]
     },
     "metadata": {},
     "output_type": "display_data"
    },
    {
     "data": {
      "application/javascript": [
       "\n",
       "(function(root) {\n",
       "  function now() {\n",
       "    return new Date();\n",
       "  }\n",
       "\n",
       "  const force = true;\n",
       "\n",
       "  if (typeof root._bokeh_onload_callbacks === \"undefined\" || force === true) {\n",
       "    root._bokeh_onload_callbacks = [];\n",
       "    root._bokeh_is_loading = undefined;\n",
       "  }\n",
       "\n",
       "  const JS_MIME_TYPE = 'application/javascript';\n",
       "  const HTML_MIME_TYPE = 'text/html';\n",
       "  const EXEC_MIME_TYPE = 'application/vnd.bokehjs_exec.v0+json';\n",
       "  const CLASS_NAME = 'output_bokeh rendered_html';\n",
       "\n",
       "  /**\n",
       "   * Render data to the DOM node\n",
       "   */\n",
       "  function render(props, node) {\n",
       "    const script = document.createElement(\"script\");\n",
       "    node.appendChild(script);\n",
       "  }\n",
       "\n",
       "  /**\n",
       "   * Handle when an output is cleared or removed\n",
       "   */\n",
       "  function handleClearOutput(event, handle) {\n",
       "    const cell = handle.cell;\n",
       "\n",
       "    const id = cell.output_area._bokeh_element_id;\n",
       "    const server_id = cell.output_area._bokeh_server_id;\n",
       "    // Clean up Bokeh references\n",
       "    if (id != null && id in Bokeh.index) {\n",
       "      Bokeh.index[id].model.document.clear();\n",
       "      delete Bokeh.index[id];\n",
       "    }\n",
       "\n",
       "    if (server_id !== undefined) {\n",
       "      // Clean up Bokeh references\n",
       "      const cmd_clean = \"from bokeh.io.state import curstate; print(curstate().uuid_to_server['\" + server_id + \"'].get_sessions()[0].document.roots[0]._id)\";\n",
       "      cell.notebook.kernel.execute(cmd_clean, {\n",
       "        iopub: {\n",
       "          output: function(msg) {\n",
       "            const id = msg.content.text.trim();\n",
       "            if (id in Bokeh.index) {\n",
       "              Bokeh.index[id].model.document.clear();\n",
       "              delete Bokeh.index[id];\n",
       "            }\n",
       "          }\n",
       "        }\n",
       "      });\n",
       "      // Destroy server and session\n",
       "      const cmd_destroy = \"import bokeh.io.notebook as ion; ion.destroy_server('\" + server_id + \"')\";\n",
       "      cell.notebook.kernel.execute(cmd_destroy);\n",
       "    }\n",
       "  }\n",
       "\n",
       "  /**\n",
       "   * Handle when a new output is added\n",
       "   */\n",
       "  function handleAddOutput(event, handle) {\n",
       "    const output_area = handle.output_area;\n",
       "    const output = handle.output;\n",
       "\n",
       "    // limit handleAddOutput to display_data with EXEC_MIME_TYPE content only\n",
       "    if ((output.output_type != \"display_data\") || (!Object.prototype.hasOwnProperty.call(output.data, EXEC_MIME_TYPE))) {\n",
       "      return\n",
       "    }\n",
       "\n",
       "    const toinsert = output_area.element.find(\".\" + CLASS_NAME.split(' ')[0]);\n",
       "\n",
       "    if (output.metadata[EXEC_MIME_TYPE][\"id\"] !== undefined) {\n",
       "      toinsert[toinsert.length - 1].firstChild.textContent = output.data[JS_MIME_TYPE];\n",
       "      // store reference to embed id on output_area\n",
       "      output_area._bokeh_element_id = output.metadata[EXEC_MIME_TYPE][\"id\"];\n",
       "    }\n",
       "    if (output.metadata[EXEC_MIME_TYPE][\"server_id\"] !== undefined) {\n",
       "      const bk_div = document.createElement(\"div\");\n",
       "      bk_div.innerHTML = output.data[HTML_MIME_TYPE];\n",
       "      const script_attrs = bk_div.children[0].attributes;\n",
       "      for (let i = 0; i < script_attrs.length; i++) {\n",
       "        toinsert[toinsert.length - 1].firstChild.setAttribute(script_attrs[i].name, script_attrs[i].value);\n",
       "        toinsert[toinsert.length - 1].firstChild.textContent = bk_div.children[0].textContent\n",
       "      }\n",
       "      // store reference to server id on output_area\n",
       "      output_area._bokeh_server_id = output.metadata[EXEC_MIME_TYPE][\"server_id\"];\n",
       "    }\n",
       "  }\n",
       "\n",
       "  function register_renderer(events, OutputArea) {\n",
       "\n",
       "    function append_mime(data, metadata, element) {\n",
       "      // create a DOM node to render to\n",
       "      const toinsert = this.create_output_subarea(\n",
       "        metadata,\n",
       "        CLASS_NAME,\n",
       "        EXEC_MIME_TYPE\n",
       "      );\n",
       "      this.keyboard_manager.register_events(toinsert);\n",
       "      // Render to node\n",
       "      const props = {data: data, metadata: metadata[EXEC_MIME_TYPE]};\n",
       "      render(props, toinsert[toinsert.length - 1]);\n",
       "      element.append(toinsert);\n",
       "      return toinsert\n",
       "    }\n",
       "\n",
       "    /* Handle when an output is cleared or removed */\n",
       "    events.on('clear_output.CodeCell', handleClearOutput);\n",
       "    events.on('delete.Cell', handleClearOutput);\n",
       "\n",
       "    /* Handle when a new output is added */\n",
       "    events.on('output_added.OutputArea', handleAddOutput);\n",
       "\n",
       "    /**\n",
       "     * Register the mime type and append_mime function with output_area\n",
       "     */\n",
       "    OutputArea.prototype.register_mime_type(EXEC_MIME_TYPE, append_mime, {\n",
       "      /* Is output safe? */\n",
       "      safe: true,\n",
       "      /* Index of renderer in `output_area.display_order` */\n",
       "      index: 0\n",
       "    });\n",
       "  }\n",
       "\n",
       "  // register the mime type if in Jupyter Notebook environment and previously unregistered\n",
       "  if (root.Jupyter !== undefined) {\n",
       "    const events = require('base/js/events');\n",
       "    const OutputArea = require('notebook/js/outputarea').OutputArea;\n",
       "\n",
       "    if (OutputArea.prototype.mime_types().indexOf(EXEC_MIME_TYPE) == -1) {\n",
       "      register_renderer(events, OutputArea);\n",
       "    }\n",
       "  }\n",
       "\n",
       "  \n",
       "  if (typeof (root._bokeh_timeout) === \"undefined\" || force === true) {\n",
       "    root._bokeh_timeout = Date.now() + 5000;\n",
       "    root._bokeh_failed_load = false;\n",
       "  }\n",
       "\n",
       "  const NB_LOAD_WARNING = {'data': {'text/html':\n",
       "     \"<div style='background-color: #fdd'>\\n\"+\n",
       "     \"<p>\\n\"+\n",
       "     \"BokehJS does not appear to have successfully loaded. If loading BokehJS from CDN, this \\n\"+\n",
       "     \"may be due to a slow or bad network connection. Possible fixes:\\n\"+\n",
       "     \"</p>\\n\"+\n",
       "     \"<ul>\\n\"+\n",
       "     \"<li>re-rerun `output_notebook()` to attempt to load from CDN again, or</li>\\n\"+\n",
       "     \"<li>use INLINE resources instead, as so:</li>\\n\"+\n",
       "     \"</ul>\\n\"+\n",
       "     \"<code>\\n\"+\n",
       "     \"from bokeh.resources import INLINE\\n\"+\n",
       "     \"output_notebook(resources=INLINE)\\n\"+\n",
       "     \"</code>\\n\"+\n",
       "     \"</div>\"}};\n",
       "\n",
       "  function display_loaded() {\n",
       "    const el = document.getElementById(\"1002\");\n",
       "    if (el != null) {\n",
       "      el.textContent = \"BokehJS is loading...\";\n",
       "    }\n",
       "    if (root.Bokeh !== undefined) {\n",
       "      if (el != null) {\n",
       "        el.textContent = \"BokehJS \" + root.Bokeh.version + \" successfully loaded.\";\n",
       "      }\n",
       "    } else if (Date.now() < root._bokeh_timeout) {\n",
       "      setTimeout(display_loaded, 100)\n",
       "    }\n",
       "  }\n",
       "\n",
       "\n",
       "  function run_callbacks() {\n",
       "    try {\n",
       "      root._bokeh_onload_callbacks.forEach(function(callback) {\n",
       "        if (callback != null)\n",
       "          callback();\n",
       "      });\n",
       "    } finally {\n",
       "      delete root._bokeh_onload_callbacks\n",
       "    }\n",
       "    console.debug(\"Bokeh: all callbacks have finished\");\n",
       "  }\n",
       "\n",
       "  function load_libs(css_urls, js_urls, callback) {\n",
       "    if (css_urls == null) css_urls = [];\n",
       "    if (js_urls == null) js_urls = [];\n",
       "\n",
       "    root._bokeh_onload_callbacks.push(callback);\n",
       "    if (root._bokeh_is_loading > 0) {\n",
       "      console.debug(\"Bokeh: BokehJS is being loaded, scheduling callback at\", now());\n",
       "      return null;\n",
       "    }\n",
       "    if (js_urls == null || js_urls.length === 0) {\n",
       "      run_callbacks();\n",
       "      return null;\n",
       "    }\n",
       "    console.debug(\"Bokeh: BokehJS not loaded, scheduling load and callback at\", now());\n",
       "    root._bokeh_is_loading = css_urls.length + js_urls.length;\n",
       "\n",
       "    function on_load() {\n",
       "      root._bokeh_is_loading--;\n",
       "      if (root._bokeh_is_loading === 0) {\n",
       "        console.debug(\"Bokeh: all BokehJS libraries/stylesheets loaded\");\n",
       "        run_callbacks()\n",
       "      }\n",
       "    }\n",
       "\n",
       "    function on_error(url) {\n",
       "      console.error(\"failed to load \" + url);\n",
       "    }\n",
       "\n",
       "    for (let i = 0; i < css_urls.length; i++) {\n",
       "      const url = css_urls[i];\n",
       "      const element = document.createElement(\"link\");\n",
       "      element.onload = on_load;\n",
       "      element.onerror = on_error.bind(null, url);\n",
       "      element.rel = \"stylesheet\";\n",
       "      element.type = \"text/css\";\n",
       "      element.href = url;\n",
       "      console.debug(\"Bokeh: injecting link tag for BokehJS stylesheet: \", url);\n",
       "      document.body.appendChild(element);\n",
       "    }\n",
       "\n",
       "    for (let i = 0; i < js_urls.length; i++) {\n",
       "      const url = js_urls[i];\n",
       "      const element = document.createElement('script');\n",
       "      element.onload = on_load;\n",
       "      element.onerror = on_error.bind(null, url);\n",
       "      element.async = false;\n",
       "      element.src = url;\n",
       "      console.debug(\"Bokeh: injecting script tag for BokehJS library: \", url);\n",
       "      document.head.appendChild(element);\n",
       "    }\n",
       "  };\n",
       "\n",
       "  function inject_raw_css(css) {\n",
       "    const element = document.createElement(\"style\");\n",
       "    element.appendChild(document.createTextNode(css));\n",
       "    document.body.appendChild(element);\n",
       "  }\n",
       "\n",
       "  \n",
       "  const js_urls = [\"https://cdn.bokeh.org/bokeh/release/bokeh-2.4.2.min.js\", \"https://cdn.bokeh.org/bokeh/release/bokeh-gl-2.4.2.min.js\", \"https://cdn.bokeh.org/bokeh/release/bokeh-widgets-2.4.2.min.js\", \"https://cdn.bokeh.org/bokeh/release/bokeh-tables-2.4.2.min.js\", \"https://cdn.bokeh.org/bokeh/release/bokeh-mathjax-2.4.2.min.js\"];\n",
       "  const css_urls = [];\n",
       "  \n",
       "\n",
       "  const inline_js = [\n",
       "    function(Bokeh) {\n",
       "      Bokeh.set_log_level(\"info\");\n",
       "    },\n",
       "    function(Bokeh) {\n",
       "    \n",
       "    \n",
       "    }\n",
       "  ];\n",
       "\n",
       "  function run_inline_js() {\n",
       "    \n",
       "    if (root.Bokeh !== undefined || force === true) {\n",
       "      \n",
       "    for (let i = 0; i < inline_js.length; i++) {\n",
       "      inline_js[i].call(root, root.Bokeh);\n",
       "    }\n",
       "    if (force === true) {\n",
       "        display_loaded();\n",
       "      }} else if (Date.now() < root._bokeh_timeout) {\n",
       "      setTimeout(run_inline_js, 100);\n",
       "    } else if (!root._bokeh_failed_load) {\n",
       "      console.log(\"Bokeh: BokehJS failed to load within specified timeout.\");\n",
       "      root._bokeh_failed_load = true;\n",
       "    } else if (force !== true) {\n",
       "      const cell = $(document.getElementById(\"1002\")).parents('.cell').data().cell;\n",
       "      cell.output_area.append_execute_result(NB_LOAD_WARNING)\n",
       "    }\n",
       "\n",
       "  }\n",
       "\n",
       "  if (root._bokeh_is_loading === 0) {\n",
       "    console.debug(\"Bokeh: BokehJS loaded, going straight to plotting\");\n",
       "    run_inline_js();\n",
       "  } else {\n",
       "    load_libs(css_urls, js_urls, function() {\n",
       "      console.debug(\"Bokeh: BokehJS plotting callback run at\", now());\n",
       "      run_inline_js();\n",
       "    });\n",
       "  }\n",
       "}(window));"
      ],
      "application/vnd.bokehjs_load.v0+json": "\n(function(root) {\n  function now() {\n    return new Date();\n  }\n\n  const force = true;\n\n  if (typeof root._bokeh_onload_callbacks === \"undefined\" || force === true) {\n    root._bokeh_onload_callbacks = [];\n    root._bokeh_is_loading = undefined;\n  }\n\n  \n\n  \n  if (typeof (root._bokeh_timeout) === \"undefined\" || force === true) {\n    root._bokeh_timeout = Date.now() + 5000;\n    root._bokeh_failed_load = false;\n  }\n\n  const NB_LOAD_WARNING = {'data': {'text/html':\n     \"<div style='background-color: #fdd'>\\n\"+\n     \"<p>\\n\"+\n     \"BokehJS does not appear to have successfully loaded. If loading BokehJS from CDN, this \\n\"+\n     \"may be due to a slow or bad network connection. Possible fixes:\\n\"+\n     \"</p>\\n\"+\n     \"<ul>\\n\"+\n     \"<li>re-rerun `output_notebook()` to attempt to load from CDN again, or</li>\\n\"+\n     \"<li>use INLINE resources instead, as so:</li>\\n\"+\n     \"</ul>\\n\"+\n     \"<code>\\n\"+\n     \"from bokeh.resources import INLINE\\n\"+\n     \"output_notebook(resources=INLINE)\\n\"+\n     \"</code>\\n\"+\n     \"</div>\"}};\n\n  function display_loaded() {\n    const el = document.getElementById(\"1002\");\n    if (el != null) {\n      el.textContent = \"BokehJS is loading...\";\n    }\n    if (root.Bokeh !== undefined) {\n      if (el != null) {\n        el.textContent = \"BokehJS \" + root.Bokeh.version + \" successfully loaded.\";\n      }\n    } else if (Date.now() < root._bokeh_timeout) {\n      setTimeout(display_loaded, 100)\n    }\n  }\n\n\n  function run_callbacks() {\n    try {\n      root._bokeh_onload_callbacks.forEach(function(callback) {\n        if (callback != null)\n          callback();\n      });\n    } finally {\n      delete root._bokeh_onload_callbacks\n    }\n    console.debug(\"Bokeh: all callbacks have finished\");\n  }\n\n  function load_libs(css_urls, js_urls, callback) {\n    if (css_urls == null) css_urls = [];\n    if (js_urls == null) js_urls = [];\n\n    root._bokeh_onload_callbacks.push(callback);\n    if (root._bokeh_is_loading > 0) {\n      console.debug(\"Bokeh: BokehJS is being loaded, scheduling callback at\", now());\n      return null;\n    }\n    if (js_urls == null || js_urls.length === 0) {\n      run_callbacks();\n      return null;\n    }\n    console.debug(\"Bokeh: BokehJS not loaded, scheduling load and callback at\", now());\n    root._bokeh_is_loading = css_urls.length + js_urls.length;\n\n    function on_load() {\n      root._bokeh_is_loading--;\n      if (root._bokeh_is_loading === 0) {\n        console.debug(\"Bokeh: all BokehJS libraries/stylesheets loaded\");\n        run_callbacks()\n      }\n    }\n\n    function on_error(url) {\n      console.error(\"failed to load \" + url);\n    }\n\n    for (let i = 0; i < css_urls.length; i++) {\n      const url = css_urls[i];\n      const element = document.createElement(\"link\");\n      element.onload = on_load;\n      element.onerror = on_error.bind(null, url);\n      element.rel = \"stylesheet\";\n      element.type = \"text/css\";\n      element.href = url;\n      console.debug(\"Bokeh: injecting link tag for BokehJS stylesheet: \", url);\n      document.body.appendChild(element);\n    }\n\n    for (let i = 0; i < js_urls.length; i++) {\n      const url = js_urls[i];\n      const element = document.createElement('script');\n      element.onload = on_load;\n      element.onerror = on_error.bind(null, url);\n      element.async = false;\n      element.src = url;\n      console.debug(\"Bokeh: injecting script tag for BokehJS library: \", url);\n      document.head.appendChild(element);\n    }\n  };\n\n  function inject_raw_css(css) {\n    const element = document.createElement(\"style\");\n    element.appendChild(document.createTextNode(css));\n    document.body.appendChild(element);\n  }\n\n  \n  const js_urls = [\"https://cdn.bokeh.org/bokeh/release/bokeh-2.4.2.min.js\", \"https://cdn.bokeh.org/bokeh/release/bokeh-gl-2.4.2.min.js\", \"https://cdn.bokeh.org/bokeh/release/bokeh-widgets-2.4.2.min.js\", \"https://cdn.bokeh.org/bokeh/release/bokeh-tables-2.4.2.min.js\", \"https://cdn.bokeh.org/bokeh/release/bokeh-mathjax-2.4.2.min.js\"];\n  const css_urls = [];\n  \n\n  const inline_js = [\n    function(Bokeh) {\n      Bokeh.set_log_level(\"info\");\n    },\n    function(Bokeh) {\n    \n    \n    }\n  ];\n\n  function run_inline_js() {\n    \n    if (root.Bokeh !== undefined || force === true) {\n      \n    for (let i = 0; i < inline_js.length; i++) {\n      inline_js[i].call(root, root.Bokeh);\n    }\n    if (force === true) {\n        display_loaded();\n      }} else if (Date.now() < root._bokeh_timeout) {\n      setTimeout(run_inline_js, 100);\n    } else if (!root._bokeh_failed_load) {\n      console.log(\"Bokeh: BokehJS failed to load within specified timeout.\");\n      root._bokeh_failed_load = true;\n    } else if (force !== true) {\n      const cell = $(document.getElementById(\"1002\")).parents('.cell').data().cell;\n      cell.output_area.append_execute_result(NB_LOAD_WARNING)\n    }\n\n  }\n\n  if (root._bokeh_is_loading === 0) {\n    console.debug(\"Bokeh: BokehJS loaded, going straight to plotting\");\n    run_inline_js();\n  } else {\n    load_libs(css_urls, js_urls, function() {\n      console.debug(\"Bokeh: BokehJS plotting callback run at\", now());\n      run_inline_js();\n    });\n  }\n}(window));"
     },
     "metadata": {},
     "output_type": "display_data"
    }
   ],
   "source": [
    "import gymnasium as gym\n",
    "import numpy as np\n",
    "import time\n",
    "import random\n",
    "from typing import Tuple, Union\n",
    "\n",
    "\n",
    "from bokeh.plotting import figure, show\n",
    "from bokeh.io import output_notebook\n",
    "\n",
    "output_notebook()\n",
    "\n",
    "env_name = 'FrozenLake-v1'\n"
   ]
  },
  {
   "cell_type": "markdown",
   "id": "37263586-394b-4881-9aa8-9c11f6cc14f5",
   "metadata": {},
   "source": [
    "Below you can find utility function and class, please run the cell to load them too."
   ]
  },
  {
   "cell_type": "code",
   "execution_count": 31,
   "id": "bcaa6025-1872-460a-b34b-a64c063c9edb",
   "metadata": {},
   "outputs": [],
   "source": [
    "def render_single(env, policy, max_steps=100):\n",
    "    \"\"\"\n",
    "    Renders policy for an environment.\n",
    "\n",
    "    Parameters\n",
    "    ----------\n",
    "    env:    gym.core.Environment, open gym environment object\n",
    "    policy: np.array of shape [env.nS], the action to take at a given state\n",
    "    \"\"\"\n",
    "    episode_reward = 0\n",
    "    state = env.reset()[0]\n",
    "    for t in range(max_steps):\n",
    "        env.render()\n",
    "        time.sleep(0.25)\n",
    "        print(state)\n",
    "        a = policy[state]\n",
    "        state, reward, done, _, _= env.step(a)\n",
    "        episode_reward += reward\n",
    "        if done:\n",
    "            break\n",
    "    env.render();\n",
    "    if not done:\n",
    "        print(\"The agent didn't reach a terminal state in {} steps.\".format(max_steps))\n",
    "    else:\n",
    "        print(\"Episode reward: %f\" % episode_reward)\n",
    "        \n",
    "        \n",
    "class Evaluator:\n",
    "    \"\"\"Provides methods to log output data and calculate metrics for Q Learning class.\"\"\"\n",
    "    def __init__(self):\n",
    "        self.__sum_of_rewards_per_episode = [0]\n",
    "        self.__episode_len = [0]\n",
    "\n",
    "    def log_metrics_per_episode(self, reward, episode):\n",
    "        \"\"\"Logs sum of rewards per episode and episode length.\"\"\"\n",
    "        if (episode + 1) > len(self.__sum_of_rewards_per_episode):\n",
    "            self.__sum_of_rewards_per_episode.append(0)\n",
    "            self.__episode_len.append(0)\n",
    "        self.__sum_of_rewards_per_episode[episode] += reward\n",
    "        self.__episode_len[episode] += 1\n",
    "\n",
    "    @property\n",
    "    def sum_of_rewards_per_episode(self):\n",
    "        return self.__sum_of_rewards_per_episode\n",
    "    \n",
    "    @property\n",
    "    def episode_len(self):\n",
    "        return self.__episode_len\n",
    "    \n",
    "    \n",
    "class Visualizer:\n",
    "    def __init__(self, evaluator: Evaluator, width=800, height=250):\n",
    "        self.evaluator = evaluator\n",
    "        self.width = width\n",
    "        self.height = height\n",
    "        \n",
    "    def plot_sum_of_rewards(self):\n",
    "        p = figure(\n",
    "            title=\"Sum of rewards\",\n",
    "            plot_width=self.width,\n",
    "            plot_height=self.height,\n",
    "            x_axis_label=\"Episodes\",\n",
    "            y_axis_label=\"Average sum of rewards during episode\"\n",
    "        )\n",
    "        p.line(range(1, n_episodes + 1), evaluator.sum_of_rewards_per_episode, line_width=1)\n",
    "\n",
    "        return p\n",
    "    \n",
    "    def plot_episode_len(self):\n",
    "        p = figure(\n",
    "            title=\"Episode Length\",\n",
    "            plot_width=self.width,\n",
    "            plot_height=self.height,\n",
    "            x_axis_label=\"Episodes\",\n",
    "            y_axis_label=\"Episode length\"\n",
    "        )\n",
    "        p.line(range(1, n_episodes + 1), evaluator.episode_len, line_width=1)\n",
    "\n",
    "        return p"
   ]
  },
  {
   "cell_type": "markdown",
   "id": "94fe70ee-f2c3-4796-a247-6af2213fa7e7",
   "metadata": {},
   "source": [
    "## Q Learning implementation\n",
    "We will create class called QLearning that will implement the Q learning control algorithm."
   ]
  },
  {
   "cell_type": "code",
   "execution_count": 4,
   "id": "c7a64a30-a41a-41b9-9889-4969ead0acf5",
   "metadata": {},
   "outputs": [],
   "source": [
    "class QLearning:\n",
    "    \"\"\"Implements Off-policy control with Q Learning.\"\"\"\n",
    "\n",
    "    def __init__(self, env: gym.Env, num_states: int, num_actions: int, alpha: float, epsilon: float,\n",
    "                 gamma: float):\n",
    "        \"\"\"Parameters\n",
    "        ----------\n",
    "        env:         gym.core.Environment, open gym environment object\n",
    "        num_states:  integer, number of states in the environment\n",
    "        num_actions: integer, number of possible actions\n",
    "        alpha:       float, step size, (0, 1]\n",
    "        epsilon:     float, the epsilon parameter used for exploration\n",
    "        gamma:       float, discount factor, small > 0\n",
    "        \"\"\"\n",
    "        self.env = env\n",
    "        self.num_states = num_states\n",
    "        self.num_actions = num_actions\n",
    "        self.alpha = alpha\n",
    "        self.epsilon = epsilon\n",
    "        self.gamma = gamma\n",
    "\n",
    "        self.Q = np.zeros((self.num_states, self.num_actions))\n",
    "\n",
    "        self.env.reset()\n",
    "\n",
    "    def run_q_learning(self, num_episodes: int, evaluator: Evaluator) -> list[int]:\n",
    "        \"\"\"Runs Q learning\n",
    "\n",
    "        Parameters\n",
    "        ----------\n",
    "        num_episodes: integer, number of episodes to run to train RL agent\n",
    "        evaluator:    instance of Evaluator class, necessary for logging output data and creating evaluation metrics.\n",
    "\n",
    "        Returns\n",
    "        ----------\n",
    "        self.final_policy: list of integers of length self.num_states, final policy\n",
    "        \"\"\"\n",
    "        terminated = False\n",
    "        for i in range(num_episodes):\n",
    "            self.env.reset()\n",
    "            state = np.random.choice(self.num_states, 1)[0]\n",
    "            terminated = False\n",
    "            while not terminated:\n",
    "                action, next_state, reward, terminated = self.generate_next_step(state)\n",
    "                evaluator.log_metrics_per_episode(reward, i)\n",
    "                if not isinstance(next_state, int):\n",
    "                    raise TypeError('Integer is expected as a next state')\n",
    "                self.evaluate_policy(state, action, reward, next_state)\n",
    "\n",
    "                state = next_state\n",
    "\n",
    "        # Once training is finished, calculate and return policy using argmax approach\n",
    "        final_policy = np.argmax(self.Q, axis=1)\n",
    "\n",
    "        return final_policy\n",
    "\n",
    "    def generate_next_step(self, state: int) -> Tuple[Union[int, float, bool]]:\n",
    "        \"\"\"Generates action in state and outcome (next_state, reward, terminated)of taking this action.\n",
    "\n",
    "        Parameters\n",
    "        ----------\n",
    "        state: int, current state of the agent\n",
    "\n",
    "        Returns\n",
    "        ----------\n",
    "        action:      int, action that agent takes in state\n",
    "        observation: object, observation as a result of agent taking action in state, format is specific to the environment\n",
    "        reward:      float\n",
    "        terminated:  bool, whether a terminal state (as defined under the MDP of the task) is reached.\n",
    "        \"\"\"\n",
    "        random_action = self.env.action_space.sample()\n",
    "        action = self.get_epsilon_greedy_action(state, random_action)\n",
    "\n",
    "        observation, reward, terminated, _, _ = self.env.step(action)\n",
    "\n",
    "        return action, observation, reward, terminated\n",
    "\n",
    "    def get_epsilon_greedy_action(self, state: int, random_action: int) -> int:\n",
    "        \"\"\"Returns next action using epsilon greedy approach.\n",
    "\n",
    "        Parameters\n",
    "        ----------\n",
    "        state:         int, current state\n",
    "        random_action: int, action sampled from current state\n",
    "\n",
    "        Returns\n",
    "        ----------\n",
    "        next_action: int, either greedy or random action\n",
    "        \"\"\"\n",
    "        prob = np.random.random()\n",
    "\n",
    "        if prob < (1 - self.epsilon):\n",
    "            return self.argmax(state)\n",
    "\n",
    "        return random_action\n",
    "\n",
    "    def evaluate_policy(self, state: int, action: int, reward: float, next_state: int):\n",
    "        \"\"\"Updates Q value for a specific state and action pair.\n",
    "\n",
    "        Parameters\n",
    "        ----------\n",
    "        state:      int, current state\n",
    "        action:     int, action taken in state\n",
    "        reward:     float, reward as a result of taking action in state\n",
    "        next_state: int\n",
    "        \"\"\"\n",
    "        est_reward = reward + self.gamma * np.max(self.Q[next_state])\n",
    "        self.Q[state][action] = self.Q[state][action] + self.alpha * (est_reward - self.Q[state][action])\n",
    "\n",
    "    def argmax(self, state: int) -> int:\n",
    "        \"\"\"\n",
    "        Finds and returns greedy action.\n",
    "\n",
    "        Parameters\n",
    "        ----------\n",
    "        state: int, state for which greedy action should be selected\n",
    "\n",
    "        Returns\n",
    "        ----------\n",
    "        action: int, corresponds to the index of the greedy action\n",
    "\n",
    "        \"\"\"\n",
    "        return int(np.argmax(self.Q[state]))\n"
   ]
  },
  {
   "cell_type": "markdown",
   "id": "7c014708-48cf-46e3-8910-f2f8602d7dda",
   "metadata": {
    "tags": []
   },
   "source": [
    "# Tests"
   ]
  },
  {
   "cell_type": "markdown",
   "id": "2e3b615d-d5e9-4296-ae9b-81e650f4f71a",
   "metadata": {},
   "source": [
    "Below you will find tests, run them to make make sure that Q Learning implementation is correct."
   ]
  },
  {
   "cell_type": "code",
   "execution_count": 11,
   "id": "073e597e-774d-48e5-bde4-96d7a8891695",
   "metadata": {},
   "outputs": [],
   "source": [
    "import ipytest\n",
    "import pytest\n",
    "ipytest.autoconfig()"
   ]
  },
  {
   "cell_type": "code",
   "execution_count": 16,
   "id": "c909b6dd-f783-4e52-9bc5-120be3318a56",
   "metadata": {},
   "outputs": [
    {
     "name": "stdout",
     "output_type": "stream",
     "text": [
      "\u001b[32m.\u001b[0m\u001b[32m.\u001b[0m\u001b[32m.\u001b[0m\u001b[32m                                                                                          [100%]\u001b[0m\n"
     ]
    }
   ],
   "source": [
    "%%ipytest -qq\n",
    "\n",
    "np.random.seed(1)\n",
    " \n",
    "@pytest.fixture\n",
    "def this_env():\n",
    "    env = gym.make('FrozenLake-v1', is_slippery=False)\n",
    "    \n",
    "    yield env\n",
    "\n",
    "@pytest.fixture\n",
    "def q_learning_instance(this_env):\n",
    "    alpha = 1\n",
    "    epsilon = 0.8\n",
    "    gamma = 1\n",
    "    num_states = this_env.observation_space.n\n",
    "    num_actions = this_env.action_space.n\n",
    "    yield QLearning(this_env, num_states, num_actions, alpha, epsilon, gamma)\n",
    "    \n",
    "\n",
    "def test_argmax(q_learning_instance):\n",
    "    res = q_learning_instance.argmax(0)\n",
    "    assert isinstance(res, int)\n",
    "    assert res == 0\n",
    "    \n",
    "    \n",
    "def test_get_epsilon_greedy_action(q_learning_instance):\n",
    "    action = q_learning_instance.get_epsilon_greedy_action(0, 3)\n",
    "    assert isinstance(action, int)\n",
    "    action == 0\n",
    "  \n",
    "    \n",
    "def test_argmax(this_env, q_learning_instance):\n",
    "    action = q_learning_instance.argmax(1)\n",
    "    assert action < this_env.observation_space.n\n",
    "    assert action >= 0\n",
    "\n",
    "    \n",
    "def test_evaluate_policy(this_env, q_learning_instance):\n",
    "    q_learning_instance.Q = np.zeros((q_learning_instance.num_states, q_learning_instance.num_actions))\n",
    "    q_learning_instance.Q[1][3] = 10\n",
    "    \n",
    "    state = 2\n",
    "    action = 1\n",
    "    reward = 5\n",
    "    next_state = 1\n",
    "    \n",
    "    q_learning_instance.evaluate_policy(state, action, reward, next_state)\n",
    "    assert q_learning_instance.Q[state][action] == 15\n",
    "    "
   ]
  },
  {
   "cell_type": "markdown",
   "id": "55e09d84-5258-4b88-9a3c-23cd7ae6168d",
   "metadata": {},
   "source": [
    "# Frozen lake"
   ]
  },
  {
   "cell_type": "code",
   "execution_count": 32,
   "id": "2507a5e8-86c9-4ad8-9989-8fad33c4b038",
   "metadata": {
    "tags": []
   },
   "outputs": [
    {
     "name": "stdout",
     "output_type": "stream",
     "text": [
      "Starting environment with 16 states and 4 actions\n"
     ]
    }
   ],
   "source": [
    "np.random.seed(1)\n",
    "\n",
    "alpha = 0.1\n",
    "epsilon = 0.9\n",
    "gamma = 0.9\n",
    "n_episodes = 1000\n",
    "\n",
    "env = gym.make('FrozenLake-v1', desc=None, map_name=\"4x4\", is_slippery=False, render_mode='ansi')\n",
    "# env.seed(11)\n",
    "np.random.seed(1)\n",
    "num_states = env.observation_space.n\n",
    "num_actions = env.action_space.n\n",
    "print(f\"Starting environment with {num_states} states and {num_actions} actions\")\n",
    "\n",
    "# set_random_seeds(env)\n",
    "model = QLearning(env, num_states, num_actions, alpha, epsilon, gamma)\n",
    "evaluator = Evaluator()\n",
    "policy = model.run_q_learning(n_episodes, evaluator)\n"
   ]
  },
  {
   "cell_type": "code",
   "execution_count": 8,
   "id": "0cfb5ee3-222c-4fe4-8173-2cdc86c0f7f3",
   "metadata": {
    "tags": []
   },
   "outputs": [
    {
     "name": "stdout",
     "output_type": "stream",
     "text": [
      "0\n",
      "1\n",
      "2\n",
      "6\n",
      "10\n",
      "14\n",
      "Episode reward: 1.000000\n"
     ]
    }
   ],
   "source": [
    "render_single(env, policy, 200)"
   ]
  },
  {
   "cell_type": "code",
   "execution_count": 33,
   "id": "b6d42a8d-6501-45e6-a28e-77623b6a100b",
   "metadata": {},
   "outputs": [
    {
     "data": {
      "text/html": [
       "\n",
       "\n",
       "\n",
       "\n",
       "\n",
       "\n",
       "  <div class=\"bk-root\" id=\"1cad5008-cd8c-4406-b44a-92e0f87f703a\" data-root-id=\"2117\"></div>\n"
      ]
     },
     "metadata": {},
     "output_type": "display_data"
    },
    {
     "data": {
      "application/javascript": [
       "(function(root) {\n",
       "  function embed_document(root) {\n",
       "    \n",
       "  const docs_json = {\"36eabe95-ab5e-4b2c-93bf-481a41ab0974\":{\"defs\":[],\"roots\":{\"references\":[{\"attributes\":{\"below\":[{\"id\":\"2128\"}],\"center\":[{\"id\":\"2131\"},{\"id\":\"2135\"}],\"height\":250,\"left\":[{\"id\":\"2132\"}],\"renderers\":[{\"id\":\"2154\"}],\"title\":{\"id\":\"2118\"},\"toolbar\":{\"id\":\"2143\"},\"width\":800,\"x_range\":{\"id\":\"2120\"},\"x_scale\":{\"id\":\"2124\"},\"y_range\":{\"id\":\"2122\"},\"y_scale\":{\"id\":\"2126\"}},\"id\":\"2117\",\"subtype\":\"Figure\",\"type\":\"Plot\"},{\"attributes\":{\"bottom_units\":\"screen\",\"coordinates\":null,\"fill_alpha\":0.5,\"fill_color\":\"lightgrey\",\"group\":null,\"left_units\":\"screen\",\"level\":\"overlay\",\"line_alpha\":1.0,\"line_color\":\"black\",\"line_dash\":[4,4],\"line_width\":2,\"right_units\":\"screen\",\"syncable\":false,\"top_units\":\"screen\"},\"id\":\"2142\",\"type\":\"BoxAnnotation\"},{\"attributes\":{\"coordinates\":null,\"data_source\":{\"id\":\"2150\"},\"glyph\":{\"id\":\"2151\"},\"group\":null,\"hover_glyph\":null,\"muted_glyph\":{\"id\":\"2153\"},\"nonselection_glyph\":{\"id\":\"2152\"},\"view\":{\"id\":\"2155\"}},\"id\":\"2154\",\"type\":\"GlyphRenderer\"},{\"attributes\":{},\"id\":\"2126\",\"type\":\"LinearScale\"},{\"attributes\":{},\"id\":\"2141\",\"type\":\"HelpTool\"},{\"attributes\":{},\"id\":\"2243\",\"type\":\"UnionRenderers\"},{\"attributes\":{},\"id\":\"2139\",\"type\":\"SaveTool\"},{\"attributes\":{\"data\":{\"x\":[1,2,3,4,5,6,7,8,9,10,11,12,13,14,15,16,17,18,19,20,21,22,23,24,25,26,27,28,29,30,31,32,33,34,35,36,37,38,39,40,41,42,43,44,45,46,47,48,49,50,51,52,53,54,55,56,57,58,59,60,61,62,63,64,65,66,67,68,69,70,71,72,73,74,75,76,77,78,79,80,81,82,83,84,85,86,87,88,89,90,91,92,93,94,95,96,97,98,99,100,101,102,103,104,105,106,107,108,109,110,111,112,113,114,115,116,117,118,119,120,121,122,123,124,125,126,127,128,129,130,131,132,133,134,135,136,137,138,139,140,141,142,143,144,145,146,147,148,149,150,151,152,153,154,155,156,157,158,159,160,161,162,163,164,165,166,167,168,169,170,171,172,173,174,175,176,177,178,179,180,181,182,183,184,185,186,187,188,189,190,191,192,193,194,195,196,197,198,199,200,201,202,203,204,205,206,207,208,209,210,211,212,213,214,215,216,217,218,219,220,221,222,223,224,225,226,227,228,229,230,231,232,233,234,235,236,237,238,239,240,241,242,243,244,245,246,247,248,249,250,251,252,253,254,255,256,257,258,259,260,261,262,263,264,265,266,267,268,269,270,271,272,273,274,275,276,277,278,279,280,281,282,283,284,285,286,287,288,289,290,291,292,293,294,295,296,297,298,299,300,301,302,303,304,305,306,307,308,309,310,311,312,313,314,315,316,317,318,319,320,321,322,323,324,325,326,327,328,329,330,331,332,333,334,335,336,337,338,339,340,341,342,343,344,345,346,347,348,349,350,351,352,353,354,355,356,357,358,359,360,361,362,363,364,365,366,367,368,369,370,371,372,373,374,375,376,377,378,379,380,381,382,383,384,385,386,387,388,389,390,391,392,393,394,395,396,397,398,399,400,401,402,403,404,405,406,407,408,409,410,411,412,413,414,415,416,417,418,419,420,421,422,423,424,425,426,427,428,429,430,431,432,433,434,435,436,437,438,439,440,441,442,443,444,445,446,447,448,449,450,451,452,453,454,455,456,457,458,459,460,461,462,463,464,465,466,467,468,469,470,471,472,473,474,475,476,477,478,479,480,481,482,483,484,485,486,487,488,489,490,491,492,493,494,495,496,497,498,499,500,501,502,503,504,505,506,507,508,509,510,511,512,513,514,515,516,517,518,519,520,521,522,523,524,525,526,527,528,529,530,531,532,533,534,535,536,537,538,539,540,541,542,543,544,545,546,547,548,549,550,551,552,553,554,555,556,557,558,559,560,561,562,563,564,565,566,567,568,569,570,571,572,573,574,575,576,577,578,579,580,581,582,583,584,585,586,587,588,589,590,591,592,593,594,595,596,597,598,599,600,601,602,603,604,605,606,607,608,609,610,611,612,613,614,615,616,617,618,619,620,621,622,623,624,625,626,627,628,629,630,631,632,633,634,635,636,637,638,639,640,641,642,643,644,645,646,647,648,649,650,651,652,653,654,655,656,657,658,659,660,661,662,663,664,665,666,667,668,669,670,671,672,673,674,675,676,677,678,679,680,681,682,683,684,685,686,687,688,689,690,691,692,693,694,695,696,697,698,699,700,701,702,703,704,705,706,707,708,709,710,711,712,713,714,715,716,717,718,719,720,721,722,723,724,725,726,727,728,729,730,731,732,733,734,735,736,737,738,739,740,741,742,743,744,745,746,747,748,749,750,751,752,753,754,755,756,757,758,759,760,761,762,763,764,765,766,767,768,769,770,771,772,773,774,775,776,777,778,779,780,781,782,783,784,785,786,787,788,789,790,791,792,793,794,795,796,797,798,799,800,801,802,803,804,805,806,807,808,809,810,811,812,813,814,815,816,817,818,819,820,821,822,823,824,825,826,827,828,829,830,831,832,833,834,835,836,837,838,839,840,841,842,843,844,845,846,847,848,849,850,851,852,853,854,855,856,857,858,859,860,861,862,863,864,865,866,867,868,869,870,871,872,873,874,875,876,877,878,879,880,881,882,883,884,885,886,887,888,889,890,891,892,893,894,895,896,897,898,899,900,901,902,903,904,905,906,907,908,909,910,911,912,913,914,915,916,917,918,919,920,921,922,923,924,925,926,927,928,929,930,931,932,933,934,935,936,937,938,939,940,941,942,943,944,945,946,947,948,949,950,951,952,953,954,955,956,957,958,959,960,961,962,963,964,965,966,967,968,969,970,971,972,973,974,975,976,977,978,979,980,981,982,983,984,985,986,987,988,989,990,991,992,993,994,995,996,997,998,999,1000],\"y\":[0.0,0.0,0.0,0.0,0.0,0.0,0.0,0.0,0.0,0.0,0.0,0.0,0.0,0.0,0.0,0.0,0.0,0.0,0.0,0.0,0.0,0.0,1.0,0.0,0.0,0.0,0.0,0.0,0.0,0.0,0.0,0.0,0.0,0.0,0.0,0.0,0.0,0.0,0.0,0.0,0.0,0.0,0.0,0.0,0.0,0.0,0.0,0.0,0.0,0.0,0.0,0.0,0.0,0.0,0.0,0.0,0.0,0.0,0.0,0.0,0.0,0.0,0.0,0.0,0.0,0.0,0.0,0.0,0.0,0.0,0.0,0.0,0.0,0.0,0.0,0.0,0.0,0.0,0.0,0.0,0.0,0.0,0.0,0.0,0.0,0.0,0.0,0.0,0.0,0.0,0.0,0.0,0.0,0.0,0.0,0.0,0.0,0.0,0.0,0.0,0.0,0.0,0.0,0.0,0.0,0.0,0.0,0.0,0.0,0.0,0.0,0.0,0.0,0.0,0.0,0.0,0.0,0.0,0.0,0.0,0.0,0.0,0.0,0.0,0.0,0.0,0.0,0.0,0.0,0.0,0.0,0.0,0.0,0.0,0.0,0.0,0.0,0.0,0.0,0.0,0.0,0.0,0.0,0.0,0.0,0.0,0.0,0.0,0.0,0.0,0.0,0.0,0.0,1.0,0.0,0.0,0.0,0.0,0.0,0.0,0.0,0.0,0.0,0.0,0.0,0.0,0.0,0.0,0.0,0.0,0.0,0.0,0.0,0.0,0.0,0.0,0.0,0.0,0.0,1.0,0.0,0.0,0.0,0.0,0.0,0.0,0.0,1.0,0.0,0.0,0.0,0.0,0.0,0.0,0.0,0.0,0.0,0.0,0.0,0.0,0.0,0.0,0.0,0.0,0.0,0.0,0.0,0.0,0.0,0.0,0.0,0.0,0.0,0.0,0.0,0.0,0.0,0.0,0.0,0.0,0.0,0.0,0.0,0.0,0.0,0.0,0.0,0.0,1.0,0.0,0.0,0.0,0.0,0.0,0.0,0.0,1.0,0.0,0.0,0.0,1.0,0.0,0.0,0.0,0.0,0.0,0.0,0.0,0.0,0.0,0.0,0.0,0.0,0.0,0.0,0.0,0.0,0.0,0.0,1.0,0.0,0.0,0.0,0.0,0.0,0.0,0.0,0.0,0.0,0.0,0.0,0.0,0.0,0.0,0.0,0.0,0.0,0.0,0.0,0.0,0.0,0.0,0.0,0.0,0.0,0.0,0.0,0.0,0.0,0.0,0.0,0.0,0.0,0.0,0.0,0.0,0.0,0.0,0.0,0.0,0.0,0.0,0.0,0.0,0.0,0.0,0.0,0.0,0.0,0.0,0.0,0.0,0.0,0.0,1.0,0.0,1.0,0.0,0.0,0.0,0.0,0.0,0.0,0.0,0.0,0.0,0.0,0.0,0.0,0.0,0.0,0.0,0.0,0.0,0.0,0.0,0.0,0.0,0.0,0.0,0.0,0.0,0.0,0.0,0.0,1.0,0.0,0.0,0.0,0.0,0.0,0.0,0.0,0.0,0.0,0.0,0.0,0.0,0.0,0.0,0.0,0.0,0.0,0.0,0.0,0.0,0.0,0.0,0.0,0.0,0.0,0.0,0.0,0.0,0.0,0.0,0.0,0.0,0.0,0.0,0.0,0.0,0.0,0.0,0.0,0.0,0.0,0.0,0.0,0.0,1.0,0.0,0.0,0.0,0.0,0.0,0.0,0.0,0.0,0.0,0.0,0.0,0.0,0.0,0.0,0.0,0.0,0.0,0.0,1.0,0.0,0.0,0.0,0.0,0.0,0.0,0.0,0.0,0.0,0.0,0.0,0.0,1.0,0.0,0.0,0.0,0.0,0.0,0.0,0.0,0.0,0.0,0.0,0.0,0.0,0.0,0.0,0.0,0.0,0.0,0.0,0.0,0.0,0.0,0.0,0.0,0.0,0.0,0.0,0.0,0.0,0.0,0.0,0.0,0.0,0.0,0.0,0.0,0.0,0.0,0.0,0.0,0.0,0.0,0.0,0.0,0.0,0.0,0.0,0.0,0.0,0.0,0.0,0.0,0.0,0.0,0.0,0.0,0.0,0.0,0.0,0.0,0.0,0.0,0.0,0.0,0.0,0.0,0.0,0.0,0.0,0.0,0.0,0.0,0.0,0.0,0.0,0.0,0.0,0.0,0.0,0.0,0.0,0.0,0.0,0.0,0.0,0.0,0.0,0.0,0.0,0.0,0.0,0.0,0.0,0.0,0.0,0.0,0.0,0.0,0.0,0.0,0.0,0.0,0.0,0.0,0.0,1.0,0.0,0.0,0.0,0.0,1.0,0.0,1.0,0.0,0.0,0.0,0.0,0.0,0.0,0.0,0.0,0.0,0.0,0.0,0.0,0.0,0.0,0.0,0.0,0.0,1.0,0.0,0.0,0.0,0.0,0.0,0.0,0.0,0.0,0.0,0.0,0.0,0.0,0.0,0.0,0.0,0.0,1.0,0.0,0.0,0.0,0.0,0.0,0.0,0.0,1.0,0.0,1.0,0.0,0.0,0.0,0.0,0.0,0.0,0.0,0.0,0.0,0.0,0.0,0.0,0.0,0.0,0.0,0.0,0.0,0.0,0.0,0.0,0.0,0.0,0.0,0.0,0.0,0.0,0.0,0.0,0.0,0.0,0.0,0.0,0.0,0.0,0.0,0.0,0.0,0.0,0.0,0.0,0.0,0.0,0.0,0.0,0.0,0.0,1.0,0.0,0.0,0.0,0.0,0.0,0.0,0.0,0.0,0.0,0.0,0.0,0.0,0.0,0.0,0.0,0.0,0.0,0.0,0.0,0.0,0.0,0.0,0.0,0.0,0.0,0.0,0.0,0.0,0.0,0.0,0.0,0.0,0.0,1.0,0.0,1.0,0.0,0.0,0.0,0.0,0.0,0.0,0.0,0.0,0.0,0.0,0.0,0.0,0.0,0.0,0.0,0.0,0.0,0.0,0.0,0.0,0.0,0.0,0.0,0.0,0.0,1.0,0.0,0.0,0.0,0.0,0.0,1.0,0.0,0.0,0.0,0.0,0.0,0.0,0.0,0.0,0.0,0.0,0.0,0.0,0.0,0.0,0.0,0.0,0.0,0.0,0.0,0.0,0.0,0.0,0.0,0.0,0.0,0.0,0.0,0.0,0.0,0.0,1.0,0.0,0.0,0.0,0.0,0.0,0.0,0.0,0.0,0.0,0.0,0.0,0.0,0.0,0.0,0.0,0.0,0.0,0.0,0.0,0.0,0.0,0.0,0.0,0.0,0.0,0.0,0.0,0.0,0.0,0.0,0.0,0.0,0.0,0.0,0.0,0.0,0.0,0.0,0.0,0.0,0.0,0.0,0.0,0.0,0.0,0.0,0.0,0.0,0.0,0.0,0.0,0.0,0.0,0.0,1.0,0.0,0.0,0.0,0.0,0.0,0.0,0.0,0.0,0.0,0.0,0.0,0.0,1.0,0.0,0.0,0.0,0.0,0.0,0.0,0.0,0.0,0.0,0.0,0.0,0.0,0.0,0.0,0.0,0.0,0.0,0.0,0.0,0.0,0.0,0.0,0.0,0.0,0.0,0.0,0.0,0.0,0.0,0.0,0.0,1.0,0.0,0.0,0.0,0.0,0.0,0.0,0.0,0.0,0.0,1.0,0.0,0.0,0.0,0.0,0.0,0.0,0.0,0.0,0.0,0.0,0.0,0.0,0.0,0.0,1.0,0.0,0.0,0.0,0.0,0.0,0.0,0.0,0.0,0.0,0.0,0.0,0.0,0.0,0.0,0.0,0.0,0.0,0.0,0.0,0.0,0.0,1.0,0.0,0.0,0.0,0.0,0.0,0.0,0.0,0.0,0.0,0.0,0.0,0.0,0.0,0.0,0.0,0.0,0.0,0.0,0.0,0.0,0.0,0.0,0.0,0.0,0.0,0.0,0.0,0.0,0.0,0.0,0.0,0.0,0.0,0.0,0.0,0.0,0.0,0.0,1.0,0.0,1.0,0.0,0.0,0.0,0.0,0.0,0.0,0.0,0.0,0.0,0.0,1.0,0.0,0.0,0.0,0.0,0.0,0.0,0.0,0.0,0.0,0.0,0.0,0.0,0.0,0.0,0.0,0.0,0.0,1.0,0.0,0.0,0.0,0.0,0.0,0.0,0.0,0.0,0.0,0.0,0.0,0.0,0.0,0.0,0.0,0.0,0.0,0.0,0.0,0.0,0.0,0.0,0.0,0.0,0.0,0.0,0.0,0.0,0.0,0.0,0.0,0.0,0.0,0.0,0.0,0.0,0.0,1.0,0.0,0.0,0.0,0.0,0.0,0.0,0.0,0.0,0.0,0.0,0.0,0.0,0.0,0.0,0.0,0.0,0.0,0.0,0.0]},\"selected\":{\"id\":\"2244\"},\"selection_policy\":{\"id\":\"2243\"}},\"id\":\"2150\",\"type\":\"ColumnDataSource\"},{\"attributes\":{},\"id\":\"2242\",\"type\":\"AllLabels\"},{\"attributes\":{\"overlay\":{\"id\":\"2142\"}},\"id\":\"2138\",\"type\":\"BoxZoomTool\"},{\"attributes\":{},\"id\":\"2122\",\"type\":\"DataRange1d\"},{\"attributes\":{\"axis\":{\"id\":\"2132\"},\"coordinates\":null,\"dimension\":1,\"group\":null,\"ticker\":null},\"id\":\"2135\",\"type\":\"Grid\"},{\"attributes\":{},\"id\":\"2140\",\"type\":\"ResetTool\"},{\"attributes\":{\"line_color\":\"#1f77b4\",\"x\":{\"field\":\"x\"},\"y\":{\"field\":\"y\"}},\"id\":\"2151\",\"type\":\"Line\"},{\"attributes\":{},\"id\":\"2238\",\"type\":\"BasicTickFormatter\"},{\"attributes\":{},\"id\":\"2241\",\"type\":\"BasicTickFormatter\"},{\"attributes\":{},\"id\":\"2133\",\"type\":\"BasicTicker\"},{\"attributes\":{},\"id\":\"2136\",\"type\":\"PanTool\"},{\"attributes\":{\"coordinates\":null,\"group\":null,\"text\":\"Sum of rewards\"},\"id\":\"2118\",\"type\":\"Title\"},{\"attributes\":{},\"id\":\"2124\",\"type\":\"LinearScale\"},{\"attributes\":{\"axis_label\":\"Average sum of rewards during episode\",\"coordinates\":null,\"formatter\":{\"id\":\"2238\"},\"group\":null,\"major_label_policy\":{\"id\":\"2239\"},\"ticker\":{\"id\":\"2133\"}},\"id\":\"2132\",\"type\":\"LinearAxis\"},{\"attributes\":{},\"id\":\"2137\",\"type\":\"WheelZoomTool\"},{\"attributes\":{\"tools\":[{\"id\":\"2136\"},{\"id\":\"2137\"},{\"id\":\"2138\"},{\"id\":\"2139\"},{\"id\":\"2140\"},{\"id\":\"2141\"}]},\"id\":\"2143\",\"type\":\"Toolbar\"},{\"attributes\":{\"source\":{\"id\":\"2150\"}},\"id\":\"2155\",\"type\":\"CDSView\"},{\"attributes\":{\"line_alpha\":0.2,\"line_color\":\"#1f77b4\",\"x\":{\"field\":\"x\"},\"y\":{\"field\":\"y\"}},\"id\":\"2153\",\"type\":\"Line\"},{\"attributes\":{},\"id\":\"2129\",\"type\":\"BasicTicker\"},{\"attributes\":{},\"id\":\"2244\",\"type\":\"Selection\"},{\"attributes\":{\"line_alpha\":0.1,\"line_color\":\"#1f77b4\",\"x\":{\"field\":\"x\"},\"y\":{\"field\":\"y\"}},\"id\":\"2152\",\"type\":\"Line\"},{\"attributes\":{\"axis\":{\"id\":\"2128\"},\"coordinates\":null,\"group\":null,\"ticker\":null},\"id\":\"2131\",\"type\":\"Grid\"},{\"attributes\":{},\"id\":\"2239\",\"type\":\"AllLabels\"},{\"attributes\":{},\"id\":\"2120\",\"type\":\"DataRange1d\"},{\"attributes\":{\"axis_label\":\"Episodes\",\"coordinates\":null,\"formatter\":{\"id\":\"2241\"},\"group\":null,\"major_label_policy\":{\"id\":\"2242\"},\"ticker\":{\"id\":\"2129\"}},\"id\":\"2128\",\"type\":\"LinearAxis\"}],\"root_ids\":[\"2117\"]},\"title\":\"Bokeh Application\",\"version\":\"2.4.2\"}};\n",
       "  const render_items = [{\"docid\":\"36eabe95-ab5e-4b2c-93bf-481a41ab0974\",\"root_ids\":[\"2117\"],\"roots\":{\"2117\":\"1cad5008-cd8c-4406-b44a-92e0f87f703a\"}}];\n",
       "  root.Bokeh.embed.embed_items_notebook(docs_json, render_items);\n",
       "\n",
       "  }\n",
       "  if (root.Bokeh !== undefined) {\n",
       "    embed_document(root);\n",
       "  } else {\n",
       "    let attempts = 0;\n",
       "    const timer = setInterval(function(root) {\n",
       "      if (root.Bokeh !== undefined) {\n",
       "        clearInterval(timer);\n",
       "        embed_document(root);\n",
       "      } else {\n",
       "        attempts++;\n",
       "        if (attempts > 100) {\n",
       "          clearInterval(timer);\n",
       "          console.log(\"Bokeh: ERROR: Unable to run BokehJS code because BokehJS library is missing\");\n",
       "        }\n",
       "      }\n",
       "    }, 10, root)\n",
       "  }\n",
       "})(window);"
      ],
      "application/vnd.bokehjs_exec.v0+json": ""
     },
     "metadata": {
      "application/vnd.bokehjs_exec.v0+json": {
       "id": "2117"
      }
     },
     "output_type": "display_data"
    },
    {
     "data": {
      "text/html": [
       "\n",
       "\n",
       "\n",
       "\n",
       "\n",
       "\n",
       "  <div class=\"bk-root\" id=\"c35e6b50-446e-46a3-9bad-5833ce10aafa\" data-root-id=\"2296\"></div>\n"
      ]
     },
     "metadata": {},
     "output_type": "display_data"
    },
    {
     "data": {
      "application/javascript": [
       "(function(root) {\n",
       "  function embed_document(root) {\n",
       "    \n",
       "  const docs_json = {\"681855dd-7725-49cf-b8af-53c5f43a3cf3\":{\"defs\":[],\"roots\":{\"references\":[{\"attributes\":{\"below\":[{\"id\":\"2307\"}],\"center\":[{\"id\":\"2310\"},{\"id\":\"2314\"}],\"height\":250,\"left\":[{\"id\":\"2311\"}],\"renderers\":[{\"id\":\"2333\"}],\"title\":{\"id\":\"2297\"},\"toolbar\":{\"id\":\"2322\"},\"width\":800,\"x_range\":{\"id\":\"2299\"},\"x_scale\":{\"id\":\"2303\"},\"y_range\":{\"id\":\"2301\"},\"y_scale\":{\"id\":\"2305\"}},\"id\":\"2296\",\"subtype\":\"Figure\",\"type\":\"Plot\"},{\"attributes\":{},\"id\":\"2316\",\"type\":\"WheelZoomTool\"},{\"attributes\":{},\"id\":\"2431\",\"type\":\"AllLabels\"},{\"attributes\":{},\"id\":\"2320\",\"type\":\"HelpTool\"},{\"attributes\":{},\"id\":\"2299\",\"type\":\"DataRange1d\"},{\"attributes\":{},\"id\":\"2303\",\"type\":\"LinearScale\"},{\"attributes\":{\"tools\":[{\"id\":\"2315\"},{\"id\":\"2316\"},{\"id\":\"2317\"},{\"id\":\"2318\"},{\"id\":\"2319\"},{\"id\":\"2320\"}]},\"id\":\"2322\",\"type\":\"Toolbar\"},{\"attributes\":{\"axis_label\":\"Episode length\",\"coordinates\":null,\"formatter\":{\"id\":\"2427\"},\"group\":null,\"major_label_policy\":{\"id\":\"2428\"},\"ticker\":{\"id\":\"2312\"}},\"id\":\"2311\",\"type\":\"LinearAxis\"},{\"attributes\":{},\"id\":\"2305\",\"type\":\"LinearScale\"},{\"attributes\":{},\"id\":\"2312\",\"type\":\"BasicTicker\"},{\"attributes\":{\"axis_label\":\"Episodes\",\"coordinates\":null,\"formatter\":{\"id\":\"2430\"},\"group\":null,\"major_label_policy\":{\"id\":\"2431\"},\"ticker\":{\"id\":\"2308\"}},\"id\":\"2307\",\"type\":\"LinearAxis\"},{\"attributes\":{\"overlay\":{\"id\":\"2321\"}},\"id\":\"2317\",\"type\":\"BoxZoomTool\"},{\"attributes\":{\"coordinates\":null,\"group\":null,\"text\":\"Episode Length\"},\"id\":\"2297\",\"type\":\"Title\"},{\"attributes\":{\"line_color\":\"#1f77b4\",\"x\":{\"field\":\"x\"},\"y\":{\"field\":\"y\"}},\"id\":\"2330\",\"type\":\"Line\"},{\"attributes\":{},\"id\":\"2319\",\"type\":\"ResetTool\"},{\"attributes\":{\"axis\":{\"id\":\"2307\"},\"coordinates\":null,\"group\":null,\"ticker\":null},\"id\":\"2310\",\"type\":\"Grid\"},{\"attributes\":{\"line_alpha\":0.1,\"line_color\":\"#1f77b4\",\"x\":{\"field\":\"x\"},\"y\":{\"field\":\"y\"}},\"id\":\"2331\",\"type\":\"Line\"},{\"attributes\":{\"line_alpha\":0.2,\"line_color\":\"#1f77b4\",\"x\":{\"field\":\"x\"},\"y\":{\"field\":\"y\"}},\"id\":\"2332\",\"type\":\"Line\"},{\"attributes\":{\"source\":{\"id\":\"2329\"}},\"id\":\"2334\",\"type\":\"CDSView\"},{\"attributes\":{\"axis\":{\"id\":\"2311\"},\"coordinates\":null,\"dimension\":1,\"group\":null,\"ticker\":null},\"id\":\"2314\",\"type\":\"Grid\"},{\"attributes\":{\"data\":{\"x\":[1,2,3,4,5,6,7,8,9,10,11,12,13,14,15,16,17,18,19,20,21,22,23,24,25,26,27,28,29,30,31,32,33,34,35,36,37,38,39,40,41,42,43,44,45,46,47,48,49,50,51,52,53,54,55,56,57,58,59,60,61,62,63,64,65,66,67,68,69,70,71,72,73,74,75,76,77,78,79,80,81,82,83,84,85,86,87,88,89,90,91,92,93,94,95,96,97,98,99,100,101,102,103,104,105,106,107,108,109,110,111,112,113,114,115,116,117,118,119,120,121,122,123,124,125,126,127,128,129,130,131,132,133,134,135,136,137,138,139,140,141,142,143,144,145,146,147,148,149,150,151,152,153,154,155,156,157,158,159,160,161,162,163,164,165,166,167,168,169,170,171,172,173,174,175,176,177,178,179,180,181,182,183,184,185,186,187,188,189,190,191,192,193,194,195,196,197,198,199,200,201,202,203,204,205,206,207,208,209,210,211,212,213,214,215,216,217,218,219,220,221,222,223,224,225,226,227,228,229,230,231,232,233,234,235,236,237,238,239,240,241,242,243,244,245,246,247,248,249,250,251,252,253,254,255,256,257,258,259,260,261,262,263,264,265,266,267,268,269,270,271,272,273,274,275,276,277,278,279,280,281,282,283,284,285,286,287,288,289,290,291,292,293,294,295,296,297,298,299,300,301,302,303,304,305,306,307,308,309,310,311,312,313,314,315,316,317,318,319,320,321,322,323,324,325,326,327,328,329,330,331,332,333,334,335,336,337,338,339,340,341,342,343,344,345,346,347,348,349,350,351,352,353,354,355,356,357,358,359,360,361,362,363,364,365,366,367,368,369,370,371,372,373,374,375,376,377,378,379,380,381,382,383,384,385,386,387,388,389,390,391,392,393,394,395,396,397,398,399,400,401,402,403,404,405,406,407,408,409,410,411,412,413,414,415,416,417,418,419,420,421,422,423,424,425,426,427,428,429,430,431,432,433,434,435,436,437,438,439,440,441,442,443,444,445,446,447,448,449,450,451,452,453,454,455,456,457,458,459,460,461,462,463,464,465,466,467,468,469,470,471,472,473,474,475,476,477,478,479,480,481,482,483,484,485,486,487,488,489,490,491,492,493,494,495,496,497,498,499,500,501,502,503,504,505,506,507,508,509,510,511,512,513,514,515,516,517,518,519,520,521,522,523,524,525,526,527,528,529,530,531,532,533,534,535,536,537,538,539,540,541,542,543,544,545,546,547,548,549,550,551,552,553,554,555,556,557,558,559,560,561,562,563,564,565,566,567,568,569,570,571,572,573,574,575,576,577,578,579,580,581,582,583,584,585,586,587,588,589,590,591,592,593,594,595,596,597,598,599,600,601,602,603,604,605,606,607,608,609,610,611,612,613,614,615,616,617,618,619,620,621,622,623,624,625,626,627,628,629,630,631,632,633,634,635,636,637,638,639,640,641,642,643,644,645,646,647,648,649,650,651,652,653,654,655,656,657,658,659,660,661,662,663,664,665,666,667,668,669,670,671,672,673,674,675,676,677,678,679,680,681,682,683,684,685,686,687,688,689,690,691,692,693,694,695,696,697,698,699,700,701,702,703,704,705,706,707,708,709,710,711,712,713,714,715,716,717,718,719,720,721,722,723,724,725,726,727,728,729,730,731,732,733,734,735,736,737,738,739,740,741,742,743,744,745,746,747,748,749,750,751,752,753,754,755,756,757,758,759,760,761,762,763,764,765,766,767,768,769,770,771,772,773,774,775,776,777,778,779,780,781,782,783,784,785,786,787,788,789,790,791,792,793,794,795,796,797,798,799,800,801,802,803,804,805,806,807,808,809,810,811,812,813,814,815,816,817,818,819,820,821,822,823,824,825,826,827,828,829,830,831,832,833,834,835,836,837,838,839,840,841,842,843,844,845,846,847,848,849,850,851,852,853,854,855,856,857,858,859,860,861,862,863,864,865,866,867,868,869,870,871,872,873,874,875,876,877,878,879,880,881,882,883,884,885,886,887,888,889,890,891,892,893,894,895,896,897,898,899,900,901,902,903,904,905,906,907,908,909,910,911,912,913,914,915,916,917,918,919,920,921,922,923,924,925,926,927,928,929,930,931,932,933,934,935,936,937,938,939,940,941,942,943,944,945,946,947,948,949,950,951,952,953,954,955,956,957,958,959,960,961,962,963,964,965,966,967,968,969,970,971,972,973,974,975,976,977,978,979,980,981,982,983,984,985,986,987,988,989,990,991,992,993,994,995,996,997,998,999,1000],\"y\":[10,2,3,7,14,11,3,18,2,7,7,13,5,15,4,11,2,12,9,12,9,4,7,4,8,7,4,8,3,18,20,25,9,27,9,2,15,6,5,8,14,2,3,6,2,5,2,10,3,22,9,5,10,18,5,9,8,4,10,37,15,8,27,8,6,12,6,5,3,22,16,7,3,8,9,2,6,6,8,7,3,8,5,5,6,4,13,5,6,11,4,7,3,6,2,6,2,2,15,18,6,3,9,3,13,9,9,11,5,3,2,5,13,8,3,5,2,6,2,4,4,6,6,5,7,5,20,7,12,3,5,13,12,14,20,2,15,5,17,5,19,2,7,12,10,7,7,2,11,2,11,3,21,27,5,25,31,12,5,5,21,14,6,14,9,6,5,6,8,12,22,14,4,13,3,3,8,9,6,7,7,11,6,3,17,14,6,18,8,4,6,11,6,5,17,10,5,13,8,17,8,12,5,8,3,8,13,3,12,9,2,3,14,14,6,8,7,7,3,2,2,12,12,5,4,7,2,3,14,2,12,15,5,6,5,3,8,8,8,17,12,12,12,16,6,11,13,4,8,14,3,7,18,8,27,2,11,5,3,6,2,3,6,8,17,8,8,2,9,3,7,5,2,16,5,21,12,12,4,6,9,5,2,13,13,15,4,9,3,8,23,13,4,9,5,2,6,9,5,3,4,6,5,6,10,2,4,2,7,10,3,3,8,17,14,2,17,13,7,2,5,9,7,5,2,2,4,2,10,2,3,2,6,3,13,12,8,2,12,3,4,18,9,7,14,8,8,2,7,5,7,9,4,9,6,9,9,5,10,5,3,10,4,2,8,18,5,8,3,2,2,13,6,12,6,2,7,4,4,6,12,3,8,18,5,6,5,4,13,10,12,11,4,12,7,5,16,5,5,6,2,11,3,19,7,2,9,3,4,6,5,4,10,2,7,16,5,10,7,2,2,8,21,2,6,10,9,6,12,4,6,10,13,2,9,2,16,13,6,12,7,11,4,5,3,6,19,8,2,5,7,14,8,7,3,5,4,19,6,4,2,12,10,2,3,5,20,5,10,12,8,4,7,13,2,5,6,5,5,3,3,6,5,9,4,6,24,12,3,7,14,5,9,4,4,7,5,5,10,16,8,2,7,4,17,8,11,21,4,4,4,3,5,9,3,2,7,5,15,2,6,4,3,21,7,4,31,8,10,11,15,12,19,4,12,24,5,2,11,10,4,4,5,14,17,4,26,3,6,5,9,5,11,5,7,2,2,4,11,4,9,6,10,10,6,18,2,6,2,7,17,4,3,5,2,8,4,10,8,10,10,23,11,3,2,8,8,12,9,2,10,7,13,14,12,5,20,21,13,4,16,12,2,3,5,4,11,5,4,3,7,15,7,3,5,15,3,3,8,10,4,18,5,4,5,2,11,13,9,9,11,2,4,8,11,3,7,3,13,3,4,8,5,18,5,4,6,6,9,11,5,7,8,5,6,7,4,5,7,5,10,3,11,2,4,6,8,17,15,4,3,7,2,4,4,2,6,2,7,5,3,2,12,12,9,7,2,3,7,8,4,7,8,17,16,4,4,10,12,7,2,9,9,12,6,10,4,2,6,3,13,11,2,7,2,9,8,10,4,2,9,4,20,6,2,14,5,15,4,3,8,13,5,2,6,11,2,4,11,5,12,10,2,23,6,6,2,9,2,9,8,4,4,3,6,2,4,10,6,6,12,4,2,10,3,2,6,6,5,2,4,20,14,14,16,3,2,3,10,6,13,17,3,11,8,21,9,2,14,3,9,2,7,14,5,6,2,2,11,8,15,8,11,10,6,7,5,7,5,6,5,13,5,5,2,5,8,6,5,2,10,5,2,4,2,16,5,4,8,2,2,6,9,6,6,9,2,7,2,11,10,3,24,2,7,5,4,9,11,5,10,9,3,12,4,2,5,14,6,4,4,3,11,8,7,11,14,7,5,2,7,14,7,2,3,13,2,12,5,21,6,8,10,12,11,13,4,5,27,7,2,2,3,3,2,5,5,5,2,2,3,3,20,15,2,6,3,13,13,22,2,15,28,6,2,3,10,13,6,2,4,11,8,3,10,13,4,11,2,11,2,3,4,2,2,10,27,2,5,5,4,6,6,7,6,5,14,6,3,2,5,8,6,12,17,9,13,13,8,7,4,14,5,2,7,11,12,6,6,5,6,6,8,4,5,4,2,6,18,9,9,2,2,6,13,6,2,2,15,4,7,10,9,7,6,4,11,8,10,16]},\"selected\":{\"id\":\"2433\"},\"selection_policy\":{\"id\":\"2432\"}},\"id\":\"2329\",\"type\":\"ColumnDataSource\"},{\"attributes\":{},\"id\":\"2432\",\"type\":\"UnionRenderers\"},{\"attributes\":{\"coordinates\":null,\"data_source\":{\"id\":\"2329\"},\"glyph\":{\"id\":\"2330\"},\"group\":null,\"hover_glyph\":null,\"muted_glyph\":{\"id\":\"2332\"},\"nonselection_glyph\":{\"id\":\"2331\"},\"view\":{\"id\":\"2334\"}},\"id\":\"2333\",\"type\":\"GlyphRenderer\"},{\"attributes\":{},\"id\":\"2301\",\"type\":\"DataRange1d\"},{\"attributes\":{},\"id\":\"2318\",\"type\":\"SaveTool\"},{\"attributes\":{},\"id\":\"2430\",\"type\":\"BasicTickFormatter\"},{\"attributes\":{},\"id\":\"2308\",\"type\":\"BasicTicker\"},{\"attributes\":{},\"id\":\"2433\",\"type\":\"Selection\"},{\"attributes\":{},\"id\":\"2427\",\"type\":\"BasicTickFormatter\"},{\"attributes\":{},\"id\":\"2315\",\"type\":\"PanTool\"},{\"attributes\":{},\"id\":\"2428\",\"type\":\"AllLabels\"},{\"attributes\":{\"bottom_units\":\"screen\",\"coordinates\":null,\"fill_alpha\":0.5,\"fill_color\":\"lightgrey\",\"group\":null,\"left_units\":\"screen\",\"level\":\"overlay\",\"line_alpha\":1.0,\"line_color\":\"black\",\"line_dash\":[4,4],\"line_width\":2,\"right_units\":\"screen\",\"syncable\":false,\"top_units\":\"screen\"},\"id\":\"2321\",\"type\":\"BoxAnnotation\"}],\"root_ids\":[\"2296\"]},\"title\":\"Bokeh Application\",\"version\":\"2.4.2\"}};\n",
       "  const render_items = [{\"docid\":\"681855dd-7725-49cf-b8af-53c5f43a3cf3\",\"root_ids\":[\"2296\"],\"roots\":{\"2296\":\"c35e6b50-446e-46a3-9bad-5833ce10aafa\"}}];\n",
       "  root.Bokeh.embed.embed_items_notebook(docs_json, render_items);\n",
       "\n",
       "  }\n",
       "  if (root.Bokeh !== undefined) {\n",
       "    embed_document(root);\n",
       "  } else {\n",
       "    let attempts = 0;\n",
       "    const timer = setInterval(function(root) {\n",
       "      if (root.Bokeh !== undefined) {\n",
       "        clearInterval(timer);\n",
       "        embed_document(root);\n",
       "      } else {\n",
       "        attempts++;\n",
       "        if (attempts > 100) {\n",
       "          clearInterval(timer);\n",
       "          console.log(\"Bokeh: ERROR: Unable to run BokehJS code because BokehJS library is missing\");\n",
       "        }\n",
       "      }\n",
       "    }, 10, root)\n",
       "  }\n",
       "})(window);"
      ],
      "application/vnd.bokehjs_exec.v0+json": ""
     },
     "metadata": {
      "application/vnd.bokehjs_exec.v0+json": {
       "id": "2296"
      }
     },
     "output_type": "display_data"
    }
   ],
   "source": [
    "vis = Visualizer(evaluator)\n",
    "\n",
    "show(vis.plot_sum_of_rewards())\n",
    "show(vis.plot_episode_len())"
   ]
  },
  {
   "cell_type": "code",
   "execution_count": 28,
   "id": "932553e3-a5ba-46f4-b984-bcc063c2577e",
   "metadata": {},
   "outputs": [
    {
     "data": {
      "text/html": [
       "\n",
       "\n",
       "\n",
       "\n",
       "\n",
       "\n",
       "  <div class=\"bk-root\" id=\"aaf07ccf-a924-43c3-a0f2-a4a98e3f2e0d\" data-root-id=\"1640\"></div>\n"
      ]
     },
     "metadata": {},
     "output_type": "display_data"
    },
    {
     "data": {
      "application/javascript": [
       "(function(root) {\n",
       "  function embed_document(root) {\n",
       "    \n",
       "  const docs_json = {\"f2790104-1f62-41a1-a793-56d6c9ad6f57\":{\"defs\":[],\"roots\":{\"references\":[{\"attributes\":{\"below\":[{\"id\":\"1651\"}],\"center\":[{\"id\":\"1654\"},{\"id\":\"1658\"}],\"height\":250,\"left\":[{\"id\":\"1655\"}],\"renderers\":[{\"id\":\"1677\"}],\"title\":{\"id\":\"1641\"},\"toolbar\":{\"id\":\"1666\"},\"width\":800,\"x_range\":{\"id\":\"1643\"},\"x_scale\":{\"id\":\"1647\"},\"y_range\":{\"id\":\"1645\"},\"y_scale\":{\"id\":\"1649\"}},\"id\":\"1640\",\"subtype\":\"Figure\",\"type\":\"Plot\"},{\"attributes\":{\"axis_label\":\"Episode length\",\"coordinates\":null,\"formatter\":{\"id\":\"1731\"},\"group\":null,\"major_label_policy\":{\"id\":\"1732\"},\"ticker\":{\"id\":\"1656\"}},\"id\":\"1655\",\"type\":\"LinearAxis\"},{\"attributes\":{\"axis\":{\"id\":\"1651\"},\"coordinates\":null,\"group\":null,\"ticker\":null},\"id\":\"1654\",\"type\":\"Grid\"},{\"attributes\":{},\"id\":\"1649\",\"type\":\"LinearScale\"},{\"attributes\":{},\"id\":\"1652\",\"type\":\"BasicTicker\"},{\"attributes\":{},\"id\":\"1647\",\"type\":\"LinearScale\"},{\"attributes\":{\"coordinates\":null,\"group\":null,\"text\":\"Episode Length\"},\"id\":\"1641\",\"type\":\"Title\"},{\"attributes\":{\"line_color\":\"#1f77b4\",\"x\":{\"field\":\"x\"},\"y\":{\"field\":\"y\"}},\"id\":\"1674\",\"type\":\"Line\"},{\"attributes\":{},\"id\":\"1736\",\"type\":\"UnionRenderers\"},{\"attributes\":{\"axis_label\":\"Episodes\",\"coordinates\":null,\"formatter\":{\"id\":\"1734\"},\"group\":null,\"major_label_policy\":{\"id\":\"1735\"},\"ticker\":{\"id\":\"1652\"}},\"id\":\"1651\",\"type\":\"LinearAxis\"},{\"attributes\":{\"axis\":{\"id\":\"1655\"},\"coordinates\":null,\"dimension\":1,\"group\":null,\"ticker\":null},\"id\":\"1658\",\"type\":\"Grid\"},{\"attributes\":{},\"id\":\"1643\",\"type\":\"DataRange1d\"},{\"attributes\":{},\"id\":\"1656\",\"type\":\"BasicTicker\"},{\"attributes\":{},\"id\":\"1660\",\"type\":\"WheelZoomTool\"},{\"attributes\":{},\"id\":\"1664\",\"type\":\"HelpTool\"},{\"attributes\":{},\"id\":\"1659\",\"type\":\"PanTool\"},{\"attributes\":{\"overlay\":{\"id\":\"1665\"}},\"id\":\"1661\",\"type\":\"BoxZoomTool\"},{\"attributes\":{},\"id\":\"1662\",\"type\":\"SaveTool\"},{\"attributes\":{},\"id\":\"1663\",\"type\":\"ResetTool\"},{\"attributes\":{},\"id\":\"1735\",\"type\":\"AllLabels\"},{\"attributes\":{},\"id\":\"1737\",\"type\":\"Selection\"},{\"attributes\":{\"bottom_units\":\"screen\",\"coordinates\":null,\"fill_alpha\":0.5,\"fill_color\":\"lightgrey\",\"group\":null,\"left_units\":\"screen\",\"level\":\"overlay\",\"line_alpha\":1.0,\"line_color\":\"black\",\"line_dash\":[4,4],\"line_width\":2,\"right_units\":\"screen\",\"syncable\":false,\"top_units\":\"screen\"},\"id\":\"1665\",\"type\":\"BoxAnnotation\"},{\"attributes\":{},\"id\":\"1732\",\"type\":\"AllLabels\"},{\"attributes\":{},\"id\":\"1734\",\"type\":\"BasicTickFormatter\"},{\"attributes\":{\"coordinates\":null,\"data_source\":{\"id\":\"1673\"},\"glyph\":{\"id\":\"1674\"},\"group\":null,\"hover_glyph\":null,\"muted_glyph\":{\"id\":\"1676\"},\"nonselection_glyph\":{\"id\":\"1675\"},\"view\":{\"id\":\"1678\"}},\"id\":\"1677\",\"type\":\"GlyphRenderer\"},{\"attributes\":{\"tools\":[{\"id\":\"1659\"},{\"id\":\"1660\"},{\"id\":\"1661\"},{\"id\":\"1662\"},{\"id\":\"1663\"},{\"id\":\"1664\"}]},\"id\":\"1666\",\"type\":\"Toolbar\"},{\"attributes\":{},\"id\":\"1645\",\"type\":\"DataRange1d\"},{\"attributes\":{\"data\":{\"x\":[1,2,3,4,5,6,7,8,9,10,11,12,13,14,15,16,17,18,19,20,21,22,23,24,25,26,27,28,29,30,31,32,33,34,35,36,37,38,39,40,41,42,43,44,45,46,47,48,49,50,51,52,53,54,55,56,57,58,59,60,61,62,63,64,65,66,67,68,69,70,71,72,73,74,75,76,77,78,79,80,81,82,83,84,85,86,87,88,89,90,91,92,93,94,95,96,97,98,99,100,101,102,103,104,105,106,107,108,109,110,111,112,113,114,115,116,117,118,119,120,121,122,123,124,125,126,127,128,129,130,131,132,133,134,135,136,137,138,139,140,141,142,143,144,145,146,147,148,149,150,151,152,153,154,155,156,157,158,159,160,161,162,163,164,165,166,167,168,169,170,171,172,173,174,175,176,177,178,179,180,181,182,183,184,185,186,187,188,189,190,191,192,193,194,195,196,197,198,199,200,201,202,203,204,205,206,207,208,209,210,211,212,213,214,215,216,217,218,219,220,221,222,223,224,225,226,227,228,229,230,231,232,233,234,235,236,237,238,239,240,241,242,243,244,245,246,247,248,249,250,251,252,253,254,255,256,257,258,259,260,261,262,263,264,265,266,267,268,269,270,271,272,273,274,275,276,277,278,279,280,281,282,283,284,285,286,287,288,289,290,291,292,293,294,295,296,297,298,299,300,301,302,303,304,305,306,307,308,309,310,311,312,313,314,315,316,317,318,319,320,321,322,323,324,325,326,327,328,329,330,331,332,333,334,335,336,337,338,339,340,341,342,343,344,345,346,347,348,349,350,351,352,353,354,355,356,357,358,359,360,361,362,363,364,365,366,367,368,369,370,371,372,373,374,375,376,377,378,379,380,381,382,383,384,385,386,387,388,389,390,391,392,393,394,395,396,397,398,399,400,401,402,403,404,405,406,407,408,409,410,411,412,413,414,415,416,417,418,419,420,421,422,423,424,425,426,427,428,429,430,431,432,433,434,435,436,437,438,439,440,441,442,443,444,445,446,447,448,449,450,451,452,453,454,455,456,457,458,459,460,461,462,463,464,465,466,467,468,469,470,471,472,473,474,475,476,477,478,479,480,481,482,483,484,485,486,487,488,489,490,491,492,493,494,495,496,497,498,499,500,501,502,503,504,505,506,507,508,509,510,511,512,513,514,515,516,517,518,519,520,521,522,523,524,525,526,527,528,529,530,531,532,533,534,535,536,537,538,539,540,541,542,543,544,545,546,547,548,549,550,551,552,553,554,555,556,557,558,559,560,561,562,563,564,565,566,567,568,569,570,571,572,573,574,575,576,577,578,579,580,581,582,583,584,585,586,587,588,589,590,591,592,593,594,595,596,597,598,599,600,601,602,603,604,605,606,607,608,609,610,611,612,613,614,615,616,617,618,619,620,621,622,623,624,625,626,627,628,629,630,631,632,633,634,635,636,637,638,639,640,641,642,643,644,645,646,647,648,649,650,651,652,653,654,655,656,657,658,659,660,661,662,663,664,665,666,667,668,669,670,671,672,673,674,675,676,677,678,679,680,681,682,683,684,685,686,687,688,689,690,691,692,693,694,695,696,697,698,699,700,701,702,703,704,705,706,707,708,709,710,711,712,713,714,715,716,717,718,719,720,721,722,723,724,725,726,727,728,729,730,731,732,733,734,735,736,737,738,739,740,741,742,743,744,745,746,747,748,749,750,751,752,753,754,755,756,757,758,759,760,761,762,763,764,765,766,767,768,769,770,771,772,773,774,775,776,777,778,779,780,781,782,783,784,785,786,787,788,789,790,791,792,793,794,795,796,797,798,799,800,801,802,803,804,805,806,807,808,809,810,811,812,813,814,815,816,817,818,819,820,821,822,823,824,825,826,827,828,829,830,831,832,833,834,835,836,837,838,839,840,841,842,843,844,845,846,847,848,849,850,851,852,853,854,855,856,857,858,859,860,861,862,863,864,865,866,867,868,869,870,871,872,873,874,875,876,877,878,879,880,881,882,883,884,885,886,887,888,889,890,891,892,893,894,895,896,897,898,899,900,901,902,903,904,905,906,907,908,909,910,911,912,913,914,915,916,917,918,919,920,921,922,923,924,925,926,927,928,929,930,931,932,933,934,935,936,937,938,939,940,941,942,943,944,945,946,947,948,949,950,951,952,953,954,955,956,957,958,959,960,961,962,963,964,965,966,967,968,969,970,971,972,973,974,975,976,977,978,979,980,981,982,983,984,985,986,987,988,989,990,991,992,993,994,995,996,997,998,999,1000],\"y\":[19,7,5,5,7,5,9,8,16,6,6,6,2,2,5,15,10,15,4,7,10,2,13,6,6,2,16,5,9,16,14,12,9,5,3,18,5,6,6,2,5,10,3,9,2,9,3,24,5,31,8,8,16,2,5,23,9,13,2,19,4,6,19,13,7,8,9,2,3,3,10,2,3,5,19,2,3,8,19,9,4,9,13,2,2,16,3,3,4,2,14,6,5,4,8,3,16,8,7,4,8,13,9,6,10,4,8,10,2,5,8,7,17,5,17,2,5,13,3,3,3,12,4,2,5,11,2,13,6,5,4,14,4,2,4,20,22,20,7,8,6,5,6,6,9,4,17,6,5,8,8,24,13,4,2,5,2,6,11,3,5,2,3,6,4,3,4,4,14,6,10,9,11,3,12,8,10,2,19,17,4,3,2,4,8,7,6,8,18,5,13,8,6,13,17,4,20,11,16,5,3,14,12,10,6,20,9,5,9,6,5,15,7,10,9,4,10,2,4,8,3,7,3,4,13,4,7,9,4,5,12,8,10,2,2,2,2,2,19,17,6,17,2,9,6,15,2,6,11,6,7,14,2,2,3,2,3,9,9,6,14,6,6,5,21,6,10,5,14,15,5,4,9,3,3,16,5,18,7,6,11,10,3,17,6,2,12,4,6,3,25,5,4,8,2,5,11,2,4,3,6,20,3,8,13,8,6,4,20,4,3,6,7,10,5,23,7,8,6,10,7,3,2,11,2,4,2,47,7,3,10,6,2,9,18,3,8,11,2,4,5,11,6,27,13,6,4,3,2,6,16,11,11,6,4,5,7,3,10,4,8,8,23,7,5,14,29,2,7,14,9,6,6,9,8,9,16,4,2,10,17,8,6,8,12,6,6,9,4,6,4,11,10,6,7,4,8,7,5,12,8,12,2,16,11,11,3,7,4,19,15,3,13,15,6,11,15,6,17,3,4,17,5,4,9,5,2,5,4,5,5,11,10,13,12,7,2,10,17,4,2,2,14,6,13,5,16,3,3,4,3,11,5,2,3,25,2,2,3,6,4,6,11,7,3,4,5,18,2,6,9,13,12,12,6,12,4,6,2,20,10,6,16,2,2,2,2,19,14,8,11,6,13,20,12,4,2,12,5,5,5,13,6,5,6,11,29,14,5,6,7,21,6,7,3,5,3,19,8,13,14,9,3,4,5,3,3,12,3,6,13,2,8,9,8,11,13,7,24,15,2,2,2,5,9,4,6,11,17,15,12,10,3,2,2,6,8,5,4,4,11,10,5,3,13,7,21,14,6,3,13,6,11,5,3,7,11,2,14,8,10,2,18,7,3,14,5,13,13,6,3,7,2,9,7,10,13,4,6,4,7,19,4,8,12,5,8,5,4,5,9,4,10,11,8,8,3,3,6,2,9,3,6,4,3,5,8,19,14,13,5,9,5,15,12,4,3,4,17,2,2,11,11,5,7,6,11,3,2,5,9,8,2,8,5,15,20,22,5,4,3,20,6,7,8,11,4,2,3,8,5,10,2,7,7,8,3,8,9,9,2,7,13,3,9,4,5,2,3,20,3,4,12,18,4,25,2,20,12,8,14,8,8,9,13,28,5,9,3,4,5,7,6,8,6,2,3,16,7,3,12,5,7,10,3,9,10,3,7,4,10,4,5,14,19,9,4,5,2,6,28,15,14,3,2,9,4,7,6,6,12,2,6,10,13,14,6,8,3,2,8,2,2,15,8,4,4,2,14,4,4,6,23,3,6,3,3,8,9,6,3,8,4,18,2,2,11,9,2,9,3,8,9,3,8,10,4,5,3,4,3,8,2,5,8,13,8,3,2,15,8,4,2,17,8,7,3,6,13,5,5,27,15,13,8,3,3,14,4,12,3,3,4,8,15,3,2,2,2,3,9,5,4,7,8,19,12,19,19,14,10,5,9,8,9,2,12,6,6,2,8,7,6,26,4,5,4,3,7,7,36,5,7,6,5,4,44,18,7,3,3,4,10,18,2,3,11,5,4,5,5,3,8,7,4,5,9,2,25,4,8,11,3,7,7,5,7,8,18,4,11,11,2,2,12,4,15,3,3,12,5,6,8,9,6,3,2,4,4,2,8,6,5,10,8,15,27,9,10,4,5,7,3,5,9,15,7,8,9,10,5,10,7,7,12,2,22,14,15,2,4,11,13,6,10,8,3,3,3,4,14,14,9,15,10,11,10,8,9,3,4,8,10,6,10,11,5,13,6,3,6,8,7,8,41,9,7,14,15,4]},\"selected\":{\"id\":\"1737\"},\"selection_policy\":{\"id\":\"1736\"}},\"id\":\"1673\",\"type\":\"ColumnDataSource\"},{\"attributes\":{\"source\":{\"id\":\"1673\"}},\"id\":\"1678\",\"type\":\"CDSView\"},{\"attributes\":{},\"id\":\"1731\",\"type\":\"BasicTickFormatter\"},{\"attributes\":{\"line_alpha\":0.2,\"line_color\":\"#1f77b4\",\"x\":{\"field\":\"x\"},\"y\":{\"field\":\"y\"}},\"id\":\"1676\",\"type\":\"Line\"},{\"attributes\":{\"line_alpha\":0.1,\"line_color\":\"#1f77b4\",\"x\":{\"field\":\"x\"},\"y\":{\"field\":\"y\"}},\"id\":\"1675\",\"type\":\"Line\"}],\"root_ids\":[\"1640\"]},\"title\":\"Bokeh Application\",\"version\":\"2.4.2\"}};\n",
       "  const render_items = [{\"docid\":\"f2790104-1f62-41a1-a793-56d6c9ad6f57\",\"root_ids\":[\"1640\"],\"roots\":{\"1640\":\"aaf07ccf-a924-43c3-a0f2-a4a98e3f2e0d\"}}];\n",
       "  root.Bokeh.embed.embed_items_notebook(docs_json, render_items);\n",
       "\n",
       "  }\n",
       "  if (root.Bokeh !== undefined) {\n",
       "    embed_document(root);\n",
       "  } else {\n",
       "    let attempts = 0;\n",
       "    const timer = setInterval(function(root) {\n",
       "      if (root.Bokeh !== undefined) {\n",
       "        clearInterval(timer);\n",
       "        embed_document(root);\n",
       "      } else {\n",
       "        attempts++;\n",
       "        if (attempts > 100) {\n",
       "          clearInterval(timer);\n",
       "          console.log(\"Bokeh: ERROR: Unable to run BokehJS code because BokehJS library is missing\");\n",
       "        }\n",
       "      }\n",
       "    }, 10, root)\n",
       "  }\n",
       "})(window);"
      ],
      "application/vnd.bokehjs_exec.v0+json": ""
     },
     "metadata": {
      "application/vnd.bokehjs_exec.v0+json": {
       "id": "1640"
      }
     },
     "output_type": "display_data"
    }
   ],
   "source": []
  },
  {
   "cell_type": "code",
   "execution_count": 30,
   "id": "b123719c-44fc-448c-aa99-60deb63acf95",
   "metadata": {},
   "outputs": [
    {
     "data": {
      "text/plain": [
       "<AxesSubplot: >"
      ]
     },
     "execution_count": 30,
     "metadata": {},
     "output_type": "execute_result"
    },
    {
     "data": {
      "image/png": "[encoded data removed]",
      "text/plain": [
       "<Figure size 432x288 with 2 Axes>"
      ]
     },
     "metadata": {
      "needs_background": "light"
     },
     "output_type": "display_data"
    }
   ],
   "source": [
    "import seaborn\n",
    "seaborn.heatmap(model.Q)"
   ]
  },
  {
   "cell_type": "markdown",
   "id": "0d4292d2-deb7-4441-8370-8ea9d8742776",
   "metadata": {},
   "source": [
    "# Cliff Walking"
   ]
  },
  {
   "cell_type": "code",
   "execution_count": 34,
   "id": "3e377558-c3e9-43cc-bb35-13fe0395bd76",
   "metadata": {},
   "outputs": [
    {
     "name": "stdout",
     "output_type": "stream",
     "text": [
      "Starting environment with 48 states and 4 actions\n"
     ]
    }
   ],
   "source": [
    "np.random.seed(1)\n",
    "\n",
    "alpha = 0.1\n",
    "epsilon = 0.9\n",
    "gamma = 0.9\n",
    "n_episodes = 1000\n",
    "\n",
    "env = gym.make('CliffWalking-v0')\n",
    "np.random.seed(1)\n",
    "num_states = env.observation_space.n\n",
    "num_actions = env.action_space.n\n",
    "print(f\"Starting environment with {num_states} states and {num_actions} actions\")\n",
    "\n",
    "model = QLearning(env, num_states, num_actions, alpha, epsilon, gamma)\n",
    "\n",
    "evaluator = Evaluator()\n",
    "policy = model.run_q_learning(n_episodes, evaluator)"
   ]
  },
  {
   "cell_type": "code",
   "execution_count": 35,
   "id": "40caed0f-11ed-4e65-ab15-bc22ebc5cde5",
   "metadata": {
    "tags": []
   },
   "outputs": [
    {
     "name": "stdout",
     "output_type": "stream",
     "text": [
      "36\n",
      "24\n",
      "25\n",
      "26\n",
      "27\n",
      "28\n",
      "29\n",
      "30\n",
      "31\n",
      "32\n",
      "33\n",
      "34\n",
      "35\n",
      "Episode reward: -13.000000\n"
     ]
    }
   ],
   "source": [
    "render_single(env, policy, 200)"
   ]
  },
  {
   "cell_type": "code",
   "execution_count": 36,
   "id": "714bc303-ab46-4547-82c8-eee100ec0c07",
   "metadata": {},
   "outputs": [
    {
     "data": {
      "text/html": [
       "\n",
       "\n",
       "\n",
       "\n",
       "\n",
       "\n",
       "  <div class=\"bk-root\" id=\"bd60946a-c75f-447b-b319-fc7dd6305f6d\" data-root-id=\"2485\"></div>\n"
      ]
     },
     "metadata": {},
     "output_type": "display_data"
    },
    {
     "data": {
      "application/javascript": [
       "(function(root) {\n",
       "  function embed_document(root) {\n",
       "    \n",
       "  const docs_json = {\"b8e062b9-7f9c-40eb-ac40-5917eb1c4817\":{\"defs\":[],\"roots\":{\"references\":[{\"attributes\":{\"below\":[{\"id\":\"2496\"}],\"center\":[{\"id\":\"2499\"},{\"id\":\"2503\"}],\"height\":250,\"left\":[{\"id\":\"2500\"}],\"renderers\":[{\"id\":\"2522\"}],\"title\":{\"id\":\"2486\"},\"toolbar\":{\"id\":\"2511\"},\"width\":800,\"x_range\":{\"id\":\"2488\"},\"x_scale\":{\"id\":\"2492\"},\"y_range\":{\"id\":\"2490\"},\"y_scale\":{\"id\":\"2494\"}},\"id\":\"2485\",\"subtype\":\"Figure\",\"type\":\"Plot\"},{\"attributes\":{},\"id\":\"2505\",\"type\":\"WheelZoomTool\"},{\"attributes\":{\"coordinates\":null,\"data_source\":{\"id\":\"2518\"},\"glyph\":{\"id\":\"2519\"},\"group\":null,\"hover_glyph\":null,\"muted_glyph\":{\"id\":\"2521\"},\"nonselection_glyph\":{\"id\":\"2520\"},\"view\":{\"id\":\"2523\"}},\"id\":\"2522\",\"type\":\"GlyphRenderer\"},{\"attributes\":{\"data\":{\"x\":[1,2,3,4,5,6,7,8,9,10,11,12,13,14,15,16,17,18,19,20,21,22,23,24,25,26,27,28,29,30,31,32,33,34,35,36,37,38,39,40,41,42,43,44,45,46,47,48,49,50,51,52,53,54,55,56,57,58,59,60,61,62,63,64,65,66,67,68,69,70,71,72,73,74,75,76,77,78,79,80,81,82,83,84,85,86,87,88,89,90,91,92,93,94,95,96,97,98,99,100,101,102,103,104,105,106,107,108,109,110,111,112,113,114,115,116,117,118,119,120,121,122,123,124,125,126,127,128,129,130,131,132,133,134,135,136,137,138,139,140,141,142,143,144,145,146,147,148,149,150,151,152,153,154,155,156,157,158,159,160,161,162,163,164,165,166,167,168,169,170,171,172,173,174,175,176,177,178,179,180,181,182,183,184,185,186,187,188,189,190,191,192,193,194,195,196,197,198,199,200,201,202,203,204,205,206,207,208,209,210,211,212,213,214,215,216,217,218,219,220,221,222,223,224,225,226,227,228,229,230,231,232,233,234,235,236,237,238,239,240,241,242,243,244,245,246,247,248,249,250,251,252,253,254,255,256,257,258,259,260,261,262,263,264,265,266,267,268,269,270,271,272,273,274,275,276,277,278,279,280,281,282,283,284,285,286,287,288,289,290,291,292,293,294,295,296,297,298,299,300,301,302,303,304,305,306,307,308,309,310,311,312,313,314,315,316,317,318,319,320,321,322,323,324,325,326,327,328,329,330,331,332,333,334,335,336,337,338,339,340,341,342,343,344,345,346,347,348,349,350,351,352,353,354,355,356,357,358,359,360,361,362,363,364,365,366,367,368,369,370,371,372,373,374,375,376,377,378,379,380,381,382,383,384,385,386,387,388,389,390,391,392,393,394,395,396,397,398,399,400,401,402,403,404,405,406,407,408,409,410,411,412,413,414,415,416,417,418,419,420,421,422,423,424,425,426,427,428,429,430,431,432,433,434,435,436,437,438,439,440,441,442,443,444,445,446,447,448,449,450,451,452,453,454,455,456,457,458,459,460,461,462,463,464,465,466,467,468,469,470,471,472,473,474,475,476,477,478,479,480,481,482,483,484,485,486,487,488,489,490,491,492,493,494,495,496,497,498,499,500,501,502,503,504,505,506,507,508,509,510,511,512,513,514,515,516,517,518,519,520,521,522,523,524,525,526,527,528,529,530,531,532,533,534,535,536,537,538,539,540,541,542,543,544,545,546,547,548,549,550,551,552,553,554,555,556,557,558,559,560,561,562,563,564,565,566,567,568,569,570,571,572,573,574,575,576,577,578,579,580,581,582,583,584,585,586,587,588,589,590,591,592,593,594,595,596,597,598,599,600,601,602,603,604,605,606,607,608,609,610,611,612,613,614,615,616,617,618,619,620,621,622,623,624,625,626,627,628,629,630,631,632,633,634,635,636,637,638,639,640,641,642,643,644,645,646,647,648,649,650,651,652,653,654,655,656,657,658,659,660,661,662,663,664,665,666,667,668,669,670,671,672,673,674,675,676,677,678,679,680,681,682,683,684,685,686,687,688,689,690,691,692,693,694,695,696,697,698,699,700,701,702,703,704,705,706,707,708,709,710,711,712,713,714,715,716,717,718,719,720,721,722,723,724,725,726,727,728,729,730,731,732,733,734,735,736,737,738,739,740,741,742,743,744,745,746,747,748,749,750,751,752,753,754,755,756,757,758,759,760,761,762,763,764,765,766,767,768,769,770,771,772,773,774,775,776,777,778,779,780,781,782,783,784,785,786,787,788,789,790,791,792,793,794,795,796,797,798,799,800,801,802,803,804,805,806,807,808,809,810,811,812,813,814,815,816,817,818,819,820,821,822,823,824,825,826,827,828,829,830,831,832,833,834,835,836,837,838,839,840,841,842,843,844,845,846,847,848,849,850,851,852,853,854,855,856,857,858,859,860,861,862,863,864,865,866,867,868,869,870,871,872,873,874,875,876,877,878,879,880,881,882,883,884,885,886,887,888,889,890,891,892,893,894,895,896,897,898,899,900,901,902,903,904,905,906,907,908,909,910,911,912,913,914,915,916,917,918,919,920,921,922,923,924,925,926,927,928,929,930,931,932,933,934,935,936,937,938,939,940,941,942,943,944,945,946,947,948,949,950,951,952,953,954,955,956,957,958,959,960,961,962,963,964,965,966,967,968,969,970,971,972,973,974,975,976,977,978,979,980,981,982,983,984,985,986,987,988,989,990,991,992,993,994,995,996,997,998,999,1000],\"y\":[-29868,-16440,-24849,-19356,-4577,-3957,-52350,-17004,-6835,-17655,-13224,-1113,-26297,-5947,-1841,-18211,-8445,-14656,-6632,-12726,-31773,-474,-2426,-36888,-5704,-9749,-5253,-1734,-11550,-3010,-4002,-5632,-3316,-11883,-19770,-5735,-6806,-17553,-13265,-6648,-771,-16484,-2804,-3910,-10682,-146,-516,-3875,-3790,-5226,-3976,-416,-1286,-3389,-3942,-12786,-613,-6765,-1004,-7300,-2974,-2154,-5698,-859,-3749,-7441,-27172,-3130,-3066,-19505,-3923,-23266,-9877,-1338,-4058,-23969,-30003,-16581,-5103,-58816,-20444,-3946,-5876,-9333,-28977,-5922,-3836,-403,-4272,-5347,-29411,-188,-503,-6825,-8102,-13882,-5229,-14349,-32,-18550,-3408,-6415,-16755,-5144,-769,-3371,-10612,-324,-8626,-3794,-1886,-1738,-20763,-3749,-5544,-3966,-18122,-4935,-1601,-43750,-3173,-9910,-1432,-1385,-9862,-1541,-9742,-9392,-5957,-3840,-5663,-34005,-22177,-520,-394,-4063,-13973,-13159,-4837,-3134,-17986,-12296,-9353,-11854,-23364,-13090,-6064,-4110,-5258,-494,-5325,-1499,-9210,-21240,-4539,-1989,-1881,-1065,-13917,-9971,-16053,-5822,-6770,-4601,-17291,-14920,-5181,-3576,-4664,-5026,-5807,-3019,-17718,-3651,-22298,-20381,-6259,-18125,-326,-1844,-13377,-4404,-2676,-7922,-21003,-11501,-54830,-7147,-13952,-26261,-2448,-7888,-137,-14158,-3568,-17713,-2962,-71,-10178,-13089,-1342,-4916,-2441,-12555,-30385,-10119,-48793,-5399,-127,-9393,-3619,-9276,-23,-466,-1505,-5836,-24602,-35502,-419,-2461,-5443,-15632,-2496,-2797,-1610,-9332,-5125,-10784,-1517,-2372,-9769,-13718,-2894,-18413,-14460,-9899,-8298,-9408,-1000,-18428,-571,-240,-25378,-20693,-9117,-4886,-2218,-5651,-885,-3926,-18861,-9098,-15955,-17819,-26051,-27,-3655,-3778,-6636,-12542,-130,-4505,-7735,-1463,-3725,-7774,-5519,-7030,-398,-10796,-17455,-10039,-45584,-5923,-3312,-23471,-1732,-5101,-518,-34429,-24214,-26260,-3892,-10765,-3995,-13832,-4868,-29312,-10599,-1649,-10479,-24977,-5045,-4262,-8408,-25332,-3479,-14763,-10041,-4466,-376,-2941,-496,-13084,-11516,-3451,-3515,-2148,-8818,-6378,-811,-2329,-863,-13602,-4670,-12598,-5582,-7737,-8605,-2759,-4206,-6775,-6682,-11165,-6456,-2803,-8082,-10559,-21734,-9454,-8460,-2937,-884,-30673,-2921,-19235,-12515,-12446,-246,-76,-164,-10442,-2786,-170,-2910,-17954,-2162,-4162,-3523,-3389,-25658,-2050,-22333,-6936,-24636,-6298,-11731,-1184,-5339,-611,-5842,-7981,-15285,-12730,-8555,-1520,-4645,-16838,-39318,-11008,-4851,-9096,-24212,-6367,-6348,-820,-11354,-2767,-488,-12089,-20101,-2220,-2595,-3886,-3976,-3950,-11082,-53,-25637,-8002,-11976,-12269,-1309,-18441,-7770,-20741,-515,-19314,-1080,-17500,-19518,-4581,-10950,-4003,-15753,-4226,-4786,-2929,-31005,-4369,-7301,-4152,-3248,-4390,-18883,-26974,-4970,-4386,-26411,-20362,-25116,-2621,-6801,-6033,-3198,-3398,-31920,-12892,-7972,-31091,-12992,-15881,-3682,-19353,-3606,-6856,-601,-6043,-11084,-494,-6490,-3196,-3496,-21934,-16191,-5766,-13902,-1256,-20054,-6818,-300,-7824,-9353,-23746,-802,-6896,-31190,-12158,-7932,-3415,-16688,-8079,-16655,-27027,-2323,-7901,-6942,-30282,-6041,-435,-11790,-1599,-13125,-1903,-38847,-13533,-115260,-4192,-280,-4984,-22406,-35957,-26726,-8003,-13468,-33976,-16768,-5369,-46793,-4236,-1394,-3616,-31295,-6061,-5194,-5507,-5265,-5259,-7553,-49194,-30854,-21425,-1195,-5576,-4305,-22322,-24314,-27948,-6809,-19088,-8865,-9980,-3499,-3515,-5478,-21292,-49171,-21982,-156,-3509,-19146,-1216,-5543,-7534,-2024,-24186,-25120,-20242,-4017,-3569,-27219,-24719,-4037,-17593,-3259,-4408,-9970,-9397,-9134,-8689,-11074,-12938,-2378,-274,-51889,-29129,-1483,-388,-19211,-5665,-25402,-5846,-4093,-1083,-26964,-1232,-3882,-2955,-5270,-710,-12602,-5010,-2626,-4908,-5156,-1811,-23090,-611,-853,-14680,-1199,-2368,-4683,-17552,-9314,-27275,-87450,-497,-10712,-7004,-13299,-3682,-14217,-4778,-3854,-1955,-2709,-32296,-3436,-5659,-323,-144,-10376,-18017,-12362,-7478,-5762,-3633,-1782,-10628,-19836,-1474,-2117,-10491,-6179,-7673,-270,-6429,-4404,-1310,-2223,-31229,-1195,-21412,-6391,-3930,-2922,-2440,-3450,-16982,-79,-9521,-1106,-693,-1770,-32479,-401,-6021,-12316,-4861,-18254,-14949,-877,-4013,-298,-13474,-1711,-9259,-1133,-184,-1135,-14866,-1411,-5580,-14142,-5648,-1701,-2362,-12205,-4603,-14612,-20193,-8905,-15084,-674,-3638,-17792,-18115,-2016,-372,-2654,-7192,-15899,-943,-3866,-7126,-4425,-10150,-5738,-2388,-46,-5409,-7159,-2928,-1444,-5209,-12294,-367,-778,-18095,-5278,-4288,-28086,-11264,-10296,-1087,-18200,-3328,-8809,-7748,-697,-6433,-2677,-10615,-18113,-20706,-244,-26830,-27884,-5304,-1303,-17892,-3118,-13565,-16529,-22273,-4434,-26470,-13797,-26393,-10116,-10517,-12953,-15713,-3954,-1917,-1582,-1669,-3685,-4646,-36547,-826,-1691,-770,-16619,-8635,-14335,-1990,-6383,-8460,-1829,-8220,-15779,-8640,-2756,-4350,-22530,-160,-4446,-10355,-6899,-2803,-4998,-3797,-1942,-1174,-358,-1010,-4787,-852,-1124,-7683,-2629,-1589,-7994,-4379,-1227,-12814,-4166,-2370,-6369,-3369,-5131,-3891,-2536,-4403,-1350,-6461,-293,-25076,-361,-805,-2871,-3477,-2671,-4222,-37,-9671,-8217,-269,-362,-3768,-6578,-4689,-3743,-5011,-5545,-1882,-3740,-9748,-624,-5614,-26233,-4993,-12659,-12918,-35387,-24262,-9062,-5621,-2726,-22805,-7132,-3410,-1444,-5487,-575,-389,-17741,-2261,-18425,-11712,-9656,-1108,-18869,-3887,-3853,-2094,-24554,-9645,-697,-27045,-835,-5099,-5229,-7419,-10605,-15518,-17153,-22413,-4093,-5626,-2070,-311,-6215,-4003,-4854,-5508,-7696,-6293,-18444,-1617,-24198,-10766,-6314,-3630,-27820,-2379,-31922,-27879,-1405,-51,-2377,-10671,-367,-2876,-12545,-8068,-1024,-1014,-15078,-3564,-753,-789,-6888,-5993,-8192,-6524,-12848,-18616,-2814,-284,-9046,-5957,-3829,-891,-4227,-44848,-6482,-248,-1155,-1611,-1945,-4165,-3025,-3451,-11762,-2519,-1564,-7843,-4577,-1366,-1824,-5483,-2167,-10570,-7594,-10458,-4650,-27437,-61,-6682,-7439,-15520,-8419,-1658,-8347,-5369,-4706,-5417,-996,-12751,-1662,-5939,-48,-6778,-5568,-6314,-5094,-5963,-1385,-3629,-17820,-8498,-12073,-1657,-1749,-5390,-13351,-14605,-14965,-1967,-1684,-7900,-4046,-4644,-2350,-645,-4431,-9559,-1311,-17616,-156,-3710,-6905,-8731,-5541,-3978,-348,-18127,-7372,-8100,-19898,-12718,-22821,-1430,-1623,-12885,-9910,-4749,-3625,-4203,-8699,-4739,-764,-18661,-3572,-2480,-39849,-2843,-5640,-1793,-6695,-5114,-29242,-14115,-22996,-3478,-10418,-36523,-6428,-8366,-16488,-20805,-55632,-64148,-12479,-2434,-33837,-53363,-17992,-21803,-3822,-7517,-6966,-22444,-5621,-9497,-5868,-6685]},\"selected\":{\"id\":\"2632\"},\"selection_policy\":{\"id\":\"2631\"}},\"id\":\"2518\",\"type\":\"ColumnDataSource\"},{\"attributes\":{},\"id\":\"2508\",\"type\":\"ResetTool\"},{\"attributes\":{},\"id\":\"2507\",\"type\":\"SaveTool\"},{\"attributes\":{\"overlay\":{\"id\":\"2510\"}},\"id\":\"2506\",\"type\":\"BoxZoomTool\"},{\"attributes\":{},\"id\":\"2504\",\"type\":\"PanTool\"},{\"attributes\":{\"line_color\":\"#1f77b4\",\"x\":{\"field\":\"x\"},\"y\":{\"field\":\"y\"}},\"id\":\"2519\",\"type\":\"Line\"},{\"attributes\":{},\"id\":\"2630\",\"type\":\"AllLabels\"},{\"attributes\":{},\"id\":\"2488\",\"type\":\"DataRange1d\"},{\"attributes\":{},\"id\":\"2632\",\"type\":\"Selection\"},{\"attributes\":{},\"id\":\"2509\",\"type\":\"HelpTool\"},{\"attributes\":{\"line_alpha\":0.1,\"line_color\":\"#1f77b4\",\"x\":{\"field\":\"x\"},\"y\":{\"field\":\"y\"}},\"id\":\"2520\",\"type\":\"Line\"},{\"attributes\":{},\"id\":\"2490\",\"type\":\"DataRange1d\"},{\"attributes\":{},\"id\":\"2629\",\"type\":\"BasicTickFormatter\"},{\"attributes\":{\"axis_label\":\"Average sum of rewards during episode\",\"coordinates\":null,\"formatter\":{\"id\":\"2626\"},\"group\":null,\"major_label_policy\":{\"id\":\"2627\"},\"ticker\":{\"id\":\"2501\"}},\"id\":\"2500\",\"type\":\"LinearAxis\"},{\"attributes\":{\"line_alpha\":0.2,\"line_color\":\"#1f77b4\",\"x\":{\"field\":\"x\"},\"y\":{\"field\":\"y\"}},\"id\":\"2521\",\"type\":\"Line\"},{\"attributes\":{},\"id\":\"2631\",\"type\":\"UnionRenderers\"},{\"attributes\":{\"source\":{\"id\":\"2518\"}},\"id\":\"2523\",\"type\":\"CDSView\"},{\"attributes\":{\"axis\":{\"id\":\"2500\"},\"coordinates\":null,\"dimension\":1,\"group\":null,\"ticker\":null},\"id\":\"2503\",\"type\":\"Grid\"},{\"attributes\":{\"bottom_units\":\"screen\",\"coordinates\":null,\"fill_alpha\":0.5,\"fill_color\":\"lightgrey\",\"group\":null,\"left_units\":\"screen\",\"level\":\"overlay\",\"line_alpha\":1.0,\"line_color\":\"black\",\"line_dash\":[4,4],\"line_width\":2,\"right_units\":\"screen\",\"syncable\":false,\"top_units\":\"screen\"},\"id\":\"2510\",\"type\":\"BoxAnnotation\"},{\"attributes\":{},\"id\":\"2501\",\"type\":\"BasicTicker\"},{\"attributes\":{\"coordinates\":null,\"group\":null,\"text\":\"Sum of rewards\"},\"id\":\"2486\",\"type\":\"Title\"},{\"attributes\":{},\"id\":\"2492\",\"type\":\"LinearScale\"},{\"attributes\":{},\"id\":\"2627\",\"type\":\"AllLabels\"},{\"attributes\":{},\"id\":\"2497\",\"type\":\"BasicTicker\"},{\"attributes\":{\"axis\":{\"id\":\"2496\"},\"coordinates\":null,\"group\":null,\"ticker\":null},\"id\":\"2499\",\"type\":\"Grid\"},{\"attributes\":{\"axis_label\":\"Episodes\",\"coordinates\":null,\"formatter\":{\"id\":\"2629\"},\"group\":null,\"major_label_policy\":{\"id\":\"2630\"},\"ticker\":{\"id\":\"2497\"}},\"id\":\"2496\",\"type\":\"LinearAxis\"},{\"attributes\":{},\"id\":\"2494\",\"type\":\"LinearScale\"},{\"attributes\":{},\"id\":\"2626\",\"type\":\"BasicTickFormatter\"},{\"attributes\":{\"tools\":[{\"id\":\"2504\"},{\"id\":\"2505\"},{\"id\":\"2506\"},{\"id\":\"2507\"},{\"id\":\"2508\"},{\"id\":\"2509\"}]},\"id\":\"2511\",\"type\":\"Toolbar\"}],\"root_ids\":[\"2485\"]},\"title\":\"Bokeh Application\",\"version\":\"2.4.2\"}};\n",
       "  const render_items = [{\"docid\":\"b8e062b9-7f9c-40eb-ac40-5917eb1c4817\",\"root_ids\":[\"2485\"],\"roots\":{\"2485\":\"bd60946a-c75f-447b-b319-fc7dd6305f6d\"}}];\n",
       "  root.Bokeh.embed.embed_items_notebook(docs_json, render_items);\n",
       "\n",
       "  }\n",
       "  if (root.Bokeh !== undefined) {\n",
       "    embed_document(root);\n",
       "  } else {\n",
       "    let attempts = 0;\n",
       "    const timer = setInterval(function(root) {\n",
       "      if (root.Bokeh !== undefined) {\n",
       "        clearInterval(timer);\n",
       "        embed_document(root);\n",
       "      } else {\n",
       "        attempts++;\n",
       "        if (attempts > 100) {\n",
       "          clearInterval(timer);\n",
       "          console.log(\"Bokeh: ERROR: Unable to run BokehJS code because BokehJS library is missing\");\n",
       "        }\n",
       "      }\n",
       "    }, 10, root)\n",
       "  }\n",
       "})(window);"
      ],
      "application/vnd.bokehjs_exec.v0+json": ""
     },
     "metadata": {
      "application/vnd.bokehjs_exec.v0+json": {
       "id": "2485"
      }
     },
     "output_type": "display_data"
    },
    {
     "data": {
      "text/html": [
       "\n",
       "\n",
       "\n",
       "\n",
       "\n",
       "\n",
       "  <div class=\"bk-root\" id=\"1a64a7b7-898c-4d86-89e2-0714986ffbe5\" data-root-id=\"2684\"></div>\n"
      ]
     },
     "metadata": {},
     "output_type": "display_data"
    },
    {
     "data": {
      "application/javascript": [
       "(function(root) {\n",
       "  function embed_document(root) {\n",
       "    \n",
       "  const docs_json = {\"af78563c-2a0d-4918-869e-a381aa28571b\":{\"defs\":[],\"roots\":{\"references\":[{\"attributes\":{\"below\":[{\"id\":\"2695\"}],\"center\":[{\"id\":\"2698\"},{\"id\":\"2702\"}],\"height\":250,\"left\":[{\"id\":\"2699\"}],\"renderers\":[{\"id\":\"2721\"}],\"title\":{\"id\":\"2685\"},\"toolbar\":{\"id\":\"2710\"},\"width\":800,\"x_range\":{\"id\":\"2687\"},\"x_scale\":{\"id\":\"2691\"},\"y_range\":{\"id\":\"2689\"},\"y_scale\":{\"id\":\"2693\"}},\"id\":\"2684\",\"subtype\":\"Figure\",\"type\":\"Plot\"},{\"attributes\":{},\"id\":\"2691\",\"type\":\"LinearScale\"},{\"attributes\":{},\"id\":\"2707\",\"type\":\"ResetTool\"},{\"attributes\":{},\"id\":\"2706\",\"type\":\"SaveTool\"},{\"attributes\":{\"overlay\":{\"id\":\"2709\"}},\"id\":\"2705\",\"type\":\"BoxZoomTool\"},{\"attributes\":{\"coordinates\":null,\"group\":null,\"text\":\"Episode Length\"},\"id\":\"2685\",\"type\":\"Title\"},{\"attributes\":{},\"id\":\"2703\",\"type\":\"PanTool\"},{\"attributes\":{},\"id\":\"2708\",\"type\":\"HelpTool\"},{\"attributes\":{},\"id\":\"2689\",\"type\":\"DataRange1d\"},{\"attributes\":{},\"id\":\"2693\",\"type\":\"LinearScale\"},{\"attributes\":{},\"id\":\"2700\",\"type\":\"BasicTicker\"},{\"attributes\":{\"axis\":{\"id\":\"2699\"},\"coordinates\":null,\"dimension\":1,\"group\":null,\"ticker\":null},\"id\":\"2702\",\"type\":\"Grid\"},{\"attributes\":{},\"id\":\"2687\",\"type\":\"DataRange1d\"},{\"attributes\":{\"axis_label\":\"Episode length\",\"coordinates\":null,\"formatter\":{\"id\":\"2835\"},\"group\":null,\"major_label_policy\":{\"id\":\"2836\"},\"ticker\":{\"id\":\"2700\"}},\"id\":\"2699\",\"type\":\"LinearAxis\"},{\"attributes\":{},\"id\":\"2704\",\"type\":\"WheelZoomTool\"},{\"attributes\":{},\"id\":\"2696\",\"type\":\"BasicTicker\"},{\"attributes\":{},\"id\":\"2839\",\"type\":\"AllLabels\"},{\"attributes\":{},\"id\":\"2836\",\"type\":\"AllLabels\"},{\"attributes\":{},\"id\":\"2838\",\"type\":\"BasicTickFormatter\"},{\"attributes\":{\"bottom_units\":\"screen\",\"coordinates\":null,\"fill_alpha\":0.5,\"fill_color\":\"lightgrey\",\"group\":null,\"left_units\":\"screen\",\"level\":\"overlay\",\"line_alpha\":1.0,\"line_color\":\"black\",\"line_dash\":[4,4],\"line_width\":2,\"right_units\":\"screen\",\"syncable\":false,\"top_units\":\"screen\"},\"id\":\"2709\",\"type\":\"BoxAnnotation\"},{\"attributes\":{\"axis\":{\"id\":\"2695\"},\"coordinates\":null,\"group\":null,\"ticker\":null},\"id\":\"2698\",\"type\":\"Grid\"},{\"attributes\":{},\"id\":\"2835\",\"type\":\"BasicTickFormatter\"},{\"attributes\":{\"coordinates\":null,\"data_source\":{\"id\":\"2717\"},\"glyph\":{\"id\":\"2718\"},\"group\":null,\"hover_glyph\":null,\"muted_glyph\":{\"id\":\"2720\"},\"nonselection_glyph\":{\"id\":\"2719\"},\"view\":{\"id\":\"2722\"}},\"id\":\"2721\",\"type\":\"GlyphRenderer\"},{\"attributes\":{\"tools\":[{\"id\":\"2703\"},{\"id\":\"2704\"},{\"id\":\"2705\"},{\"id\":\"2706\"},{\"id\":\"2707\"},{\"id\":\"2708\"}]},\"id\":\"2710\",\"type\":\"Toolbar\"},{\"attributes\":{\"data\":{\"x\":[1,2,3,4,5,6,7,8,9,10,11,12,13,14,15,16,17,18,19,20,21,22,23,24,25,26,27,28,29,30,31,32,33,34,35,36,37,38,39,40,41,42,43,44,45,46,47,48,49,50,51,52,53,54,55,56,57,58,59,60,61,62,63,64,65,66,67,68,69,70,71,72,73,74,75,76,77,78,79,80,81,82,83,84,85,86,87,88,89,90,91,92,93,94,95,96,97,98,99,100,101,102,103,104,105,106,107,108,109,110,111,112,113,114,115,116,117,118,119,120,121,122,123,124,125,126,127,128,129,130,131,132,133,134,135,136,137,138,139,140,141,142,143,144,145,146,147,148,149,150,151,152,153,154,155,156,157,158,159,160,161,162,163,164,165,166,167,168,169,170,171,172,173,174,175,176,177,178,179,180,181,182,183,184,185,186,187,188,189,190,191,192,193,194,195,196,197,198,199,200,201,202,203,204,205,206,207,208,209,210,211,212,213,214,215,216,217,218,219,220,221,222,223,224,225,226,227,228,229,230,231,232,233,234,235,236,237,238,239,240,241,242,243,244,245,246,247,248,249,250,251,252,253,254,255,256,257,258,259,260,261,262,263,264,265,266,267,268,269,270,271,272,273,274,275,276,277,278,279,280,281,282,283,284,285,286,287,288,289,290,291,292,293,294,295,296,297,298,299,300,301,302,303,304,305,306,307,308,309,310,311,312,313,314,315,316,317,318,319,320,321,322,323,324,325,326,327,328,329,330,331,332,333,334,335,336,337,338,339,340,341,342,343,344,345,346,347,348,349,350,351,352,353,354,355,356,357,358,359,360,361,362,363,364,365,366,367,368,369,370,371,372,373,374,375,376,377,378,379,380,381,382,383,384,385,386,387,388,389,390,391,392,393,394,395,396,397,398,399,400,401,402,403,404,405,406,407,408,409,410,411,412,413,414,415,416,417,418,419,420,421,422,423,424,425,426,427,428,429,430,431,432,433,434,435,436,437,438,439,440,441,442,443,444,445,446,447,448,449,450,451,452,453,454,455,456,457,458,459,460,461,462,463,464,465,466,467,468,469,470,471,472,473,474,475,476,477,478,479,480,481,482,483,484,485,486,487,488,489,490,491,492,493,494,495,496,497,498,499,500,501,502,503,504,505,506,507,508,509,510,511,512,513,514,515,516,517,518,519,520,521,522,523,524,525,526,527,528,529,530,531,532,533,534,535,536,537,538,539,540,541,542,543,544,545,546,547,548,549,550,551,552,553,554,555,556,557,558,559,560,561,562,563,564,565,566,567,568,569,570,571,572,573,574,575,576,577,578,579,580,581,582,583,584,585,586,587,588,589,590,591,592,593,594,595,596,597,598,599,600,601,602,603,604,605,606,607,608,609,610,611,612,613,614,615,616,617,618,619,620,621,622,623,624,625,626,627,628,629,630,631,632,633,634,635,636,637,638,639,640,641,642,643,644,645,646,647,648,649,650,651,652,653,654,655,656,657,658,659,660,661,662,663,664,665,666,667,668,669,670,671,672,673,674,675,676,677,678,679,680,681,682,683,684,685,686,687,688,689,690,691,692,693,694,695,696,697,698,699,700,701,702,703,704,705,706,707,708,709,710,711,712,713,714,715,716,717,718,719,720,721,722,723,724,725,726,727,728,729,730,731,732,733,734,735,736,737,738,739,740,741,742,743,744,745,746,747,748,749,750,751,752,753,754,755,756,757,758,759,760,761,762,763,764,765,766,767,768,769,770,771,772,773,774,775,776,777,778,779,780,781,782,783,784,785,786,787,788,789,790,791,792,793,794,795,796,797,798,799,800,801,802,803,804,805,806,807,808,809,810,811,812,813,814,815,816,817,818,819,820,821,822,823,824,825,826,827,828,829,830,831,832,833,834,835,836,837,838,839,840,841,842,843,844,845,846,847,848,849,850,851,852,853,854,855,856,857,858,859,860,861,862,863,864,865,866,867,868,869,870,871,872,873,874,875,876,877,878,879,880,881,882,883,884,885,886,887,888,889,890,891,892,893,894,895,896,897,898,899,900,901,902,903,904,905,906,907,908,909,910,911,912,913,914,915,916,917,918,919,920,921,922,923,924,925,926,927,928,929,930,931,932,933,934,935,936,937,938,939,940,941,942,943,944,945,946,947,948,949,950,951,952,953,954,955,956,957,958,959,960,961,962,963,964,965,966,967,968,969,970,971,972,973,974,975,976,977,978,979,980,981,982,983,984,985,986,987,988,989,990,991,992,993,994,995,996,997,998,999,1000],\"y\":[3435,1986,2772,2031,518,492,5523,1659,697,2013,1146,123,2735,799,257,2173,1020,2083,692,1341,3162,78,248,4416,556,1037,699,150,1353,436,537,682,445,1389,2445,587,767,2010,1583,708,78,2030,329,346,1079,47,120,410,424,573,313,119,197,320,477,1401,118,825,212,766,499,273,550,166,482,808,2818,358,492,2279,359,2971,868,150,395,2585,3372,1731,549,5851,1931,580,629,1017,3435,873,569,106,609,595,3473,89,107,786,974,1309,576,1578,32,2017,339,673,2004,689,76,302,1306,126,805,428,203,154,2448,482,693,600,1886,381,215,4546,401,1198,145,296,952,155,1030,1274,512,276,515,3216,2278,124,97,499,1499,1477,580,362,2047,1307,1037,964,2376,1705,718,447,506,98,771,311,894,2529,480,207,297,75,1542,1160,1599,773,1028,542,2243,1852,627,507,704,571,659,445,1878,384,2399,2066,814,2186,128,161,1398,642,399,893,2391,1106,5825,613,1478,2798,270,859,38,1189,697,2170,289,71,1169,1506,253,857,362,1368,3457,1209,5233,647,28,1176,550,861,23,70,317,589,2723,3921,122,382,493,1574,219,223,224,1016,670,1379,230,293,1255,1442,320,1979,1392,1187,972,1191,109,2093,76,42,2509,2378,702,728,337,602,93,461,2229,980,1600,1682,2687,27,388,412,498,1553,31,545,1003,275,557,844,866,892,101,1292,2110,832,4994,874,342,2483,148,547,122,4531,2533,2797,328,1360,233,1556,710,3374,1095,164,1272,2702,590,599,884,2859,410,1299,1032,506,79,466,100,1204,1220,481,446,267,1195,933,217,349,71,1722,512,1312,632,906,685,383,642,736,1039,1067,714,427,756,857,2231,1039,837,462,191,3745,347,1613,1526,1457,48,76,65,1235,311,71,534,2114,281,499,355,320,3086,466,2731,798,2361,754,1435,194,686,116,595,853,1722,1543,932,134,784,1988,3975,1009,693,1077,3026,625,903,226,1157,292,191,1298,2380,240,318,322,511,584,1380,53,3362,775,1185,1676,121,2304,741,2030,119,2286,288,1858,2292,522,1644,538,1695,464,430,454,3384,607,866,489,278,430,2548,2818,515,525,2750,2245,2445,443,564,489,327,428,3210,1408,745,3074,1508,1526,316,2325,438,817,106,796,986,98,649,424,328,2332,1638,519,1527,266,2234,878,102,894,1037,2065,109,758,3272,1070,804,445,1937,951,1607,3168,343,971,804,3156,497,39,1098,213,1443,220,3702,1554,12003,529,82,628,2309,4178,3263,875,1291,3682,2017,716,4916,474,107,448,3575,616,541,656,711,606,821,5535,3728,2219,205,824,444,2819,2732,2703,869,2060,1044,1070,430,446,528,2383,5017,1984,57,341,2118,127,593,901,242,2901,2944,2125,453,302,3063,2246,374,1951,388,448,961,1081,917,967,1174,1256,299,76,5854,2795,196,91,1886,517,2632,698,430,192,3204,242,417,381,617,116,1415,654,349,651,701,227,2498,116,160,1909,209,388,525,2207,1097,3020,9339,101,1208,866,1419,514,1446,422,587,272,333,3289,367,709,125,45,1070,2078,1373,845,713,564,297,1223,2016,187,236,888,635,842,72,489,642,221,342,3410,106,2206,748,564,447,361,579,2132,79,1106,116,99,186,4165,104,675,1228,604,2117,1782,184,449,100,1297,127,943,242,85,244,1600,223,531,1470,599,216,382,1414,544,1544,2175,985,1818,80,371,2150,2176,333,75,278,757,1940,151,599,988,663,1339,788,408,46,756,1021,354,157,556,1305,169,184,2354,625,328,2841,1166,1188,97,2162,358,1186,1016,103,889,301,1210,1976,2391,46,2872,3332,651,214,2151,544,1685,1679,2275,474,2710,1620,2534,1107,1211,1271,1655,390,234,196,85,418,488,4570,133,206,77,1670,715,1861,208,641,1035,245,993,1622,1116,380,489,2928,61,684,1148,860,427,543,332,358,184,61,119,728,159,233,951,352,401,1163,419,237,1825,602,390,726,399,775,624,457,443,162,719,95,2504,64,211,297,408,493,559,37,1058,1287,71,164,402,737,630,476,754,793,298,374,937,129,565,2869,439,1571,1632,3707,2680,1142,671,449,2411,598,341,157,537,80,92,2099,380,1793,1416,1142,118,2138,422,388,213,2972,1032,103,2691,142,644,576,786,1002,1559,1610,2415,430,775,189,113,671,439,597,459,865,848,2109,231,2517,1361,572,363,3268,300,3707,2931,316,51,298,1068,70,500,1259,1138,232,123,1614,495,159,96,849,548,1064,782,1364,1984,537,86,1027,611,463,99,762,4456,542,50,165,225,262,502,451,382,1169,242,178,715,716,277,240,533,187,1066,763,1449,690,2588,61,841,905,1759,796,272,922,617,746,863,105,1168,177,692,48,640,717,572,540,617,98,461,2079,776,1282,271,264,737,1570,1537,1798,185,298,871,383,783,370,150,471,1144,222,1776,57,443,767,910,591,414,150,1792,937,1071,1979,1333,2427,143,237,1500,1198,690,457,441,878,482,71,2029,503,302,4011,269,888,209,854,560,3997,1641,2503,508,1409,4348,686,1139,1935,2292,5934,6827,1193,355,3246,4853,1855,2102,555,785,828,2446,572,1181,918,646]},\"selected\":{\"id\":\"2841\"},\"selection_policy\":{\"id\":\"2840\"}},\"id\":\"2717\",\"type\":\"ColumnDataSource\"},{\"attributes\":{\"source\":{\"id\":\"2717\"}},\"id\":\"2722\",\"type\":\"CDSView\"},{\"attributes\":{\"line_alpha\":0.2,\"line_color\":\"#1f77b4\",\"x\":{\"field\":\"x\"},\"y\":{\"field\":\"y\"}},\"id\":\"2720\",\"type\":\"Line\"},{\"attributes\":{},\"id\":\"2840\",\"type\":\"UnionRenderers\"},{\"attributes\":{\"line_alpha\":0.1,\"line_color\":\"#1f77b4\",\"x\":{\"field\":\"x\"},\"y\":{\"field\":\"y\"}},\"id\":\"2719\",\"type\":\"Line\"},{\"attributes\":{\"axis_label\":\"Episodes\",\"coordinates\":null,\"formatter\":{\"id\":\"2838\"},\"group\":null,\"major_label_policy\":{\"id\":\"2839\"},\"ticker\":{\"id\":\"2696\"}},\"id\":\"2695\",\"type\":\"LinearAxis\"},{\"attributes\":{\"line_color\":\"#1f77b4\",\"x\":{\"field\":\"x\"},\"y\":{\"field\":\"y\"}},\"id\":\"2718\",\"type\":\"Line\"},{\"attributes\":{},\"id\":\"2841\",\"type\":\"Selection\"}],\"root_ids\":[\"2684\"]},\"title\":\"Bokeh Application\",\"version\":\"2.4.2\"}};\n",
       "  const render_items = [{\"docid\":\"af78563c-2a0d-4918-869e-a381aa28571b\",\"root_ids\":[\"2684\"],\"roots\":{\"2684\":\"1a64a7b7-898c-4d86-89e2-0714986ffbe5\"}}];\n",
       "  root.Bokeh.embed.embed_items_notebook(docs_json, render_items);\n",
       "\n",
       "  }\n",
       "  if (root.Bokeh !== undefined) {\n",
       "    embed_document(root);\n",
       "  } else {\n",
       "    let attempts = 0;\n",
       "    const timer = setInterval(function(root) {\n",
       "      if (root.Bokeh !== undefined) {\n",
       "        clearInterval(timer);\n",
       "        embed_document(root);\n",
       "      } else {\n",
       "        attempts++;\n",
       "        if (attempts > 100) {\n",
       "          clearInterval(timer);\n",
       "          console.log(\"Bokeh: ERROR: Unable to run BokehJS code because BokehJS library is missing\");\n",
       "        }\n",
       "      }\n",
       "    }, 10, root)\n",
       "  }\n",
       "})(window);"
      ],
      "application/vnd.bokehjs_exec.v0+json": ""
     },
     "metadata": {
      "application/vnd.bokehjs_exec.v0+json": {
       "id": "2684"
      }
     },
     "output_type": "display_data"
    }
   ],
   "source": [
    "vis = Visualizer(evaluator)\n",
    "\n",
    "show(vis.plot_sum_of_rewards())\n",
    "show(vis.plot_episode_len())"
   ]
  },
  {
   "cell_type": "markdown",
   "id": "39bb1b76-5497-4df9-83bd-a5708ab7af3f",
   "metadata": {},
   "source": [
    "# Taxi Problem"
   ]
  },
  {
   "cell_type": "code",
   "execution_count": 37,
   "id": "59aa9af5-993e-41b8-846b-82187bcf3ccf",
   "metadata": {},
   "outputs": [
    {
     "name": "stdout",
     "output_type": "stream",
     "text": [
      "Starting environment with 500 states and 6 actions\n"
     ]
    }
   ],
   "source": [
    "np.random.seed(1)\n",
    "\n",
    "alpha = 0.1\n",
    "epsilon = 0.9\n",
    "gamma = 0.9\n",
    "n_episodes = 1000\n",
    "\n",
    "env = gym.make('Taxi-v3')\n",
    "num_states = env.observation_space.n\n",
    "num_actions = env.action_space.n\n",
    "print(f\"Starting environment with {num_states} states and {num_actions} actions\")\n",
    "\n",
    "model = QLearning(env, num_states, num_actions, alpha, epsilon, gamma)\n",
    "\n",
    "evaluator = Evaluator()\n",
    "policy = model.run_q_learning(n_episodes, evaluator)"
   ]
  },
  {
   "cell_type": "code",
   "execution_count": 38,
   "id": "b9019127-d613-4f44-80bf-86b6af301727",
   "metadata": {
    "tags": []
   },
   "outputs": [
    {
     "name": "stdout",
     "output_type": "stream",
     "text": [
      "73\n",
      "173\n",
      "273\n",
      "373\n",
      "473\n",
      "477\n",
      "377\n",
      "277\n",
      "297\n",
      "197\n",
      "97\n",
      "Episode reward: 10.000000\n"
     ]
    }
   ],
   "source": [
    "render_single(env, policy, 200)"
   ]
  },
  {
   "cell_type": "code",
   "execution_count": 39,
   "id": "37acb699-de62-4c84-813b-9cd467ef8116",
   "metadata": {},
   "outputs": [
    {
     "data": {
      "text/html": [
       "\n",
       "\n",
       "\n",
       "\n",
       "\n",
       "\n",
       "  <div class=\"bk-root\" id=\"691d052a-eed4-4c81-a2ee-e762ca77637f\" data-root-id=\"2893\"></div>\n"
      ]
     },
     "metadata": {},
     "output_type": "display_data"
    },
    {
     "data": {
      "application/javascript": [
       "(function(root) {\n",
       "  function embed_document(root) {\n",
       "    \n",
       "  const docs_json = {\"e2729a66-ada5-4a5e-bb12-aa7a18fb344e\":{\"defs\":[],\"roots\":{\"references\":[{\"attributes\":{\"below\":[{\"id\":\"2904\"}],\"center\":[{\"id\":\"2907\"},{\"id\":\"2911\"}],\"height\":250,\"left\":[{\"id\":\"2908\"}],\"renderers\":[{\"id\":\"2930\"}],\"title\":{\"id\":\"2894\"},\"toolbar\":{\"id\":\"2919\"},\"width\":800,\"x_range\":{\"id\":\"2896\"},\"x_scale\":{\"id\":\"2900\"},\"y_range\":{\"id\":\"2898\"},\"y_scale\":{\"id\":\"2902\"}},\"id\":\"2893\",\"subtype\":\"Figure\",\"type\":\"Plot\"},{\"attributes\":{},\"id\":\"3059\",\"type\":\"UnionRenderers\"},{\"attributes\":{\"overlay\":{\"id\":\"2918\"}},\"id\":\"2914\",\"type\":\"BoxZoomTool\"},{\"attributes\":{},\"id\":\"2915\",\"type\":\"SaveTool\"},{\"attributes\":{\"coordinates\":null,\"data_source\":{\"id\":\"2926\"},\"glyph\":{\"id\":\"2927\"},\"group\":null,\"hover_glyph\":null,\"muted_glyph\":{\"id\":\"2929\"},\"nonselection_glyph\":{\"id\":\"2928\"},\"view\":{\"id\":\"2931\"}},\"id\":\"2930\",\"type\":\"GlyphRenderer\"},{\"attributes\":{},\"id\":\"2916\",\"type\":\"ResetTool\"},{\"attributes\":{},\"id\":\"3054\",\"type\":\"BasicTickFormatter\"},{\"attributes\":{\"line_alpha\":0.2,\"line_color\":\"#1f77b4\",\"x\":{\"field\":\"x\"},\"y\":{\"field\":\"y\"}},\"id\":\"2929\",\"type\":\"Line\"},{\"attributes\":{\"line_alpha\":0.1,\"line_color\":\"#1f77b4\",\"x\":{\"field\":\"x\"},\"y\":{\"field\":\"y\"}},\"id\":\"2928\",\"type\":\"Line\"},{\"attributes\":{},\"id\":\"2912\",\"type\":\"PanTool\"},{\"attributes\":{\"data\":{\"x\":[1,2,3,4,5,6,7,8,9,10,11,12,13,14,15,16,17,18,19,20,21,22,23,24,25,26,27,28,29,30,31,32,33,34,35,36,37,38,39,40,41,42,43,44,45,46,47,48,49,50,51,52,53,54,55,56,57,58,59,60,61,62,63,64,65,66,67,68,69,70,71,72,73,74,75,76,77,78,79,80,81,82,83,84,85,86,87,88,89,90,91,92,93,94,95,96,97,98,99,100,101,102,103,104,105,106,107,108,109,110,111,112,113,114,115,116,117,118,119,120,121,122,123,124,125,126,127,128,129,130,131,132,133,134,135,136,137,138,139,140,141,142,143,144,145,146,147,148,149,150,151,152,153,154,155,156,157,158,159,160,161,162,163,164,165,166,167,168,169,170,171,172,173,174,175,176,177,178,179,180,181,182,183,184,185,186,187,188,189,190,191,192,193,194,195,196,197,198,199,200,201,202,203,204,205,206,207,208,209,210,211,212,213,214,215,216,217,218,219,220,221,222,223,224,225,226,227,228,229,230,231,232,233,234,235,236,237,238,239,240,241,242,243,244,245,246,247,248,249,250,251,252,253,254,255,256,257,258,259,260,261,262,263,264,265,266,267,268,269,270,271,272,273,274,275,276,277,278,279,280,281,282,283,284,285,286,287,288,289,290,291,292,293,294,295,296,297,298,299,300,301,302,303,304,305,306,307,308,309,310,311,312,313,314,315,316,317,318,319,320,321,322,323,324,325,326,327,328,329,330,331,332,333,334,335,336,337,338,339,340,341,342,343,344,345,346,347,348,349,350,351,352,353,354,355,356,357,358,359,360,361,362,363,364,365,366,367,368,369,370,371,372,373,374,375,376,377,378,379,380,381,382,383,384,385,386,387,388,389,390,391,392,393,394,395,396,397,398,399,400,401,402,403,404,405,406,407,408,409,410,411,412,413,414,415,416,417,418,419,420,421,422,423,424,425,426,427,428,429,430,431,432,433,434,435,436,437,438,439,440,441,442,443,444,445,446,447,448,449,450,451,452,453,454,455,456,457,458,459,460,461,462,463,464,465,466,467,468,469,470,471,472,473,474,475,476,477,478,479,480,481,482,483,484,485,486,487,488,489,490,491,492,493,494,495,496,497,498,499,500,501,502,503,504,505,506,507,508,509,510,511,512,513,514,515,516,517,518,519,520,521,522,523,524,525,526,527,528,529,530,531,532,533,534,535,536,537,538,539,540,541,542,543,544,545,546,547,548,549,550,551,552,553,554,555,556,557,558,559,560,561,562,563,564,565,566,567,568,569,570,571,572,573,574,575,576,577,578,579,580,581,582,583,584,585,586,587,588,589,590,591,592,593,594,595,596,597,598,599,600,601,602,603,604,605,606,607,608,609,610,611,612,613,614,615,616,617,618,619,620,621,622,623,624,625,626,627,628,629,630,631,632,633,634,635,636,637,638,639,640,641,642,643,644,645,646,647,648,649,650,651,652,653,654,655,656,657,658,659,660,661,662,663,664,665,666,667,668,669,670,671,672,673,674,675,676,677,678,679,680,681,682,683,684,685,686,687,688,689,690,691,692,693,694,695,696,697,698,699,700,701,702,703,704,705,706,707,708,709,710,711,712,713,714,715,716,717,718,719,720,721,722,723,724,725,726,727,728,729,730,731,732,733,734,735,736,737,738,739,740,741,742,743,744,745,746,747,748,749,750,751,752,753,754,755,756,757,758,759,760,761,762,763,764,765,766,767,768,769,770,771,772,773,774,775,776,777,778,779,780,781,782,783,784,785,786,787,788,789,790,791,792,793,794,795,796,797,798,799,800,801,802,803,804,805,806,807,808,809,810,811,812,813,814,815,816,817,818,819,820,821,822,823,824,825,826,827,828,829,830,831,832,833,834,835,836,837,838,839,840,841,842,843,844,845,846,847,848,849,850,851,852,853,854,855,856,857,858,859,860,861,862,863,864,865,866,867,868,869,870,871,872,873,874,875,876,877,878,879,880,881,882,883,884,885,886,887,888,889,890,891,892,893,894,895,896,897,898,899,900,901,902,903,904,905,906,907,908,909,910,911,912,913,914,915,916,917,918,919,920,921,922,923,924,925,926,927,928,929,930,931,932,933,934,935,936,937,938,939,940,941,942,943,944,945,946,947,948,949,950,951,952,953,954,955,956,957,958,959,960,961,962,963,964,965,966,967,968,969,970,971,972,973,974,975,976,977,978,979,980,981,982,983,984,985,986,987,988,989,990,991,992,993,994,995,996,997,998,999,1000],\"y\":[-3343,-356,-5013,-2451,-5867,-7102,-2037,-4081,-4566,-5332,-1322,-5332,-3779,-5325,-2395,-779,-11353,-311,-1506,-632,-10495,-1874,-3068,-4014,-1750,-2194,-22986,-522,-1079,-5086,-1044,-5601,-476,-2895,-2189,-1095,-993,-2879,-4158,-2702,-7245,-393,-4613,-3645,-3105,-2995,-8323,-3069,-467,-10210,-5005,-3972,-833,-2489,-258,-3898,-2628,-183,-2451,-1863,-1084,-3184,-7990,-1121,-2607,-2220,-2265,-7644,-2641,-642,-2427,-3190,-513,-1558,-1138,-1767,-220,-7958,-3131,-827,-2025,-2408,-2605,-2389,-1442,-2246,-1490,-254,-958,-215,-2977,-3727,-3018,-1013,-284,-896,-2748,-4793,-625,-488,-692,-461,-111,-1113,-4279,-4076,-1663,-499,-1950,-1581,-1384,-143,-1897,-2072,-1981,-528,-2615,-1203,-2665,-770,-673,-1499,-5569,-4867,-1676,-3147,-2391,-965,-3014,-97,-1282,-613,-888,-970,-2507,-1853,-2151,-1327,-2371,-2278,-540,-644,-586,-1924,-3166,-621,-1588,-1793,-2047,-1950,-480,-304,-284,-940,-1896,-3261,-843,-1612,-289,-1169,-456,-342,-786,-868,-2101,-1649,-769,-1890,-1520,-483,-230,-370,-339,-902,-295,-3398,-274,-1851,-1342,-1468,-581,-403,-373,-2338,-653,-5432,-174,-2235,-752,-1656,-3709,-2147,-3706,-719,-43,-866,-599,-1158,-44,-466,-441,-170,-661,-1719,-1567,-1832,-684,-639,-744,-159,-1686,-463,-855,-992,-595,-570,-466,-330,-568,-1412,-290,-1362,-715,-667,-3509,-286,-883,-626,-2173,-699,-143,-2952,-1307,-262,-297,-573,-915,-353,-1121,-3374,-285,-116,-2540,-1283,-851,-398,-2117,-969,-1239,-993,-2585,-1282,-950,-493,-1396,-2399,-343,-1285,-4879,-2658,-1401,-565,-1812,-404,-310,-1256,-1248,-520,-381,-2739,-1855,-2264,-647,-45,-718,-1088,-3247,-936,-1620,-1033,-1767,-182,-962,-2191,-476,-796,-1288,-681,-700,-1492,-376,-465,-1370,-94,-220,-300,-1236,-811,-940,-1221,-579,-901,-1246,-949,-227,-950,-562,-725,-1747,-455,-94,-334,-1153,-823,-118,-537,-942,-560,-2106,-723,-729,-2907,-632,-576,-221,-185,-1736,-321,-977,-325,-121,-93,-1083,-830,-626,-1069,-1602,-1180,-845,-977,-325,-742,-269,-970,-557,-663,-900,-1405,-1746,-559,-1439,-1009,-1490,-721,-962,-545,-1878,-344,-363,-367,-1080,-871,-715,-710,-505,-255,-570,-1092,-898,-680,-918,-555,-438,-1686,-1467,-363,-121,-727,-601,-635,-451,-662,-549,-793,-433,-1056,-560,-930,-1193,-1476,-1170,-4181,-764,-407,-895,-1159,-284,-811,-83,-1713,-611,-675,-1008,-1537,-450,-507,-436,-1252,-1881,-1251,-411,-603,-2460,-1288,-282,-889,-537,-468,-578,-358,-414,-424,-308,-2120,-717,-238,-1311,-445,-243,-417,-603,-430,-733,-987,-201,-673,-51,-439,-145,-587,-878,-391,-1271,-70,-1439,-656,-988,-723,-74,-1110,-872,-956,-976,-858,-675,-615,-284,-115,-981,-854,-1878,-1073,-596,-481,-829,-489,-194,-582,-668,-743,-609,-331,-763,-611,-101,-1252,-823,-1012,-101,-1206,-893,-507,-989,-586,-1324,-551,-1105,-594,-466,-682,-546,-211,-557,-516,-391,-1002,-459,-123,-787,-671,-710,-2159,-766,-2416,-1024,-38,-549,-268,-770,-239,-1057,-156,-439,-1136,-291,-763,-354,-1037,-737,-424,-181,-946,-1045,-1054,-490,-123,-119,-2579,-263,-2442,-293,-476,-432,-630,-674,-441,-286,-504,-462,-339,-578,-657,-439,-498,-593,-132,-708,-250,-759,-375,-615,-994,-423,-1850,-1330,-760,-672,-862,-1131,-419,-569,-639,-394,-352,-551,-1423,-1395,-1317,-480,-1247,-1031,-363,-2000,-198,-1858,-1994,-1394,-1192,-825,-916,-31,-735,-346,-1448,-1149,-231,-252,-528,-2127,-835,-1262,-788,-739,-705,-244,-921,-563,-730,-627,-565,-1356,-756,-1221,-811,-317,-472,-285,-182,-779,-462,-568,-807,-979,-508,-374,-607,-308,-1142,-324,-1098,-909,-286,-784,-498,-759,-615,-265,-472,-403,-688,-1110,-477,-266,-760,-1730,-1158,-945,-641,-862,-1541,-652,-258,-1177,-1930,-289,-952,-964,-99,-881,-417,-369,-302,-506,-1695,-1249,-479,-1003,-1283,-1525,-425,-1268,-622,-1464,-877,-932,-204,-1001,-739,-432,-2635,-694,-1527,-1327,-709,-916,-820,-533,-2274,-664,-247,-285,-1302,-374,-715,-767,-494,-1063,-1065,-859,-622,-899,-537,-1933,-822,-247,-1436,-307,-597,-2982,-2019,-1174,-367,-690,-555,-546,-673,-623,-684,-557,-413,-860,-104,-3367,-221,-685,-757,-705,-946,-535,-922,-407,-330,-627,-1397,-1267,-393,-503,-623,-1658,-1144,-905,-844,-1124,-1047,-1038,-556,-916,-117,-692,-146,-224,-364,-477,-380,-539,-787,-637,-263,-1034,-1237,-971,-3824,-409,-659,-567,-1428,-463,-1226,-706,-1287,-597,-301,-1286,-601,-1171,-356,-396,-713,-753,-476,-2505,-448,-360,-215,-738,-141,-436,-218,-284,-395,-1957,-1644,-280,-2057,-765,-589,-1034,-310,-1070,-311,-535,-252,-804,-805,-1914,-1492,-743,-1080,-250,-303,-586,-582,-849,-441,-168,-498,-1127,-1505,-222,-121,-1135,-735,-1159,-2982,-382,-262,-213,-950,-104,-1095,-499,-333,-1005,-564,-768,-1696,-892,-430,-612,-1044,-500,-1358,-167,-629,-476,-1224,-912,-454,-511,-508,-1027,-135,-749,-553,-451,-658,-1084,-1473,-656,-545,-1241,-402,-276,-1297,-345,-448,-769,-746,-230,-2533,-1601,-680,-349,-707,-564,-279,-694,-377,-922,-1451,-649,-317,-344,-669,-638,-265,-2084,-458,-441,-3519,-78,-786,-282,-537,-254,-183,-419,-401,-548,-209,-865,-547,-1717,-1581,-880,-1353,-399,-306,-114,-362,-928,-540,-1054,-141,-1000,-462,-382,-983,-165,-149,-1755,-908,-1451,-1668,-426,-666,-810,-249,-992,-1129,-1033,-629,-1036,-524,-661,-1869,-452,-1099,-1268,-838,-2069,-634,-495,-862,-576,-257,-411,-121,-830,-214,-2187,-332,-590,-165,-1705,-1547,-903,-200,-950,-789,-408,-1637,-183,-517,-814,-649,-604,-576,-421,-903,-2891,-693,-722,-661,-792,-317,-572,-901,-278,-630,-884,-884,-306,-925,-698,-936,-682,-1053,-1000,-1912,-295,-203,-803,-466,-1020,-933,-1170,-215,-525,-399,-152,-1161,-286,-1323,-682,-406,-2784,-444,-243,-233]},\"selected\":{\"id\":\"3060\"},\"selection_policy\":{\"id\":\"3059\"}},\"id\":\"2926\",\"type\":\"ColumnDataSource\"},{\"attributes\":{\"source\":{\"id\":\"2926\"}},\"id\":\"2931\",\"type\":\"CDSView\"},{\"attributes\":{},\"id\":\"3058\",\"type\":\"AllLabels\"},{\"attributes\":{},\"id\":\"2913\",\"type\":\"WheelZoomTool\"},{\"attributes\":{},\"id\":\"3057\",\"type\":\"BasicTickFormatter\"},{\"attributes\":{},\"id\":\"2900\",\"type\":\"LinearScale\"},{\"attributes\":{},\"id\":\"2902\",\"type\":\"LinearScale\"},{\"attributes\":{},\"id\":\"3055\",\"type\":\"AllLabels\"},{\"attributes\":{},\"id\":\"2898\",\"type\":\"DataRange1d\"},{\"attributes\":{\"coordinates\":null,\"group\":null,\"text\":\"Sum of rewards\"},\"id\":\"2894\",\"type\":\"Title\"},{\"attributes\":{},\"id\":\"2896\",\"type\":\"DataRange1d\"},{\"attributes\":{\"tools\":[{\"id\":\"2912\"},{\"id\":\"2913\"},{\"id\":\"2914\"},{\"id\":\"2915\"},{\"id\":\"2916\"},{\"id\":\"2917\"}]},\"id\":\"2919\",\"type\":\"Toolbar\"},{\"attributes\":{\"line_color\":\"#1f77b4\",\"x\":{\"field\":\"x\"},\"y\":{\"field\":\"y\"}},\"id\":\"2927\",\"type\":\"Line\"},{\"attributes\":{},\"id\":\"2917\",\"type\":\"HelpTool\"},{\"attributes\":{},\"id\":\"2909\",\"type\":\"BasicTicker\"},{\"attributes\":{\"bottom_units\":\"screen\",\"coordinates\":null,\"fill_alpha\":0.5,\"fill_color\":\"lightgrey\",\"group\":null,\"left_units\":\"screen\",\"level\":\"overlay\",\"line_alpha\":1.0,\"line_color\":\"black\",\"line_dash\":[4,4],\"line_width\":2,\"right_units\":\"screen\",\"syncable\":false,\"top_units\":\"screen\"},\"id\":\"2918\",\"type\":\"BoxAnnotation\"},{\"attributes\":{\"axis\":{\"id\":\"2908\"},\"coordinates\":null,\"dimension\":1,\"group\":null,\"ticker\":null},\"id\":\"2911\",\"type\":\"Grid\"},{\"attributes\":{\"axis_label\":\"Episodes\",\"coordinates\":null,\"formatter\":{\"id\":\"3057\"},\"group\":null,\"major_label_policy\":{\"id\":\"3058\"},\"ticker\":{\"id\":\"2905\"}},\"id\":\"2904\",\"type\":\"LinearAxis\"},{\"attributes\":{\"axis_label\":\"Average sum of rewards during episode\",\"coordinates\":null,\"formatter\":{\"id\":\"3054\"},\"group\":null,\"major_label_policy\":{\"id\":\"3055\"},\"ticker\":{\"id\":\"2909\"}},\"id\":\"2908\",\"type\":\"LinearAxis\"},{\"attributes\":{\"axis\":{\"id\":\"2904\"},\"coordinates\":null,\"group\":null,\"ticker\":null},\"id\":\"2907\",\"type\":\"Grid\"},{\"attributes\":{},\"id\":\"2905\",\"type\":\"BasicTicker\"},{\"attributes\":{},\"id\":\"3060\",\"type\":\"Selection\"}],\"root_ids\":[\"2893\"]},\"title\":\"Bokeh Application\",\"version\":\"2.4.2\"}};\n",
       "  const render_items = [{\"docid\":\"e2729a66-ada5-4a5e-bb12-aa7a18fb344e\",\"root_ids\":[\"2893\"],\"roots\":{\"2893\":\"691d052a-eed4-4c81-a2ee-e762ca77637f\"}}];\n",
       "  root.Bokeh.embed.embed_items_notebook(docs_json, render_items);\n",
       "\n",
       "  }\n",
       "  if (root.Bokeh !== undefined) {\n",
       "    embed_document(root);\n",
       "  } else {\n",
       "    let attempts = 0;\n",
       "    const timer = setInterval(function(root) {\n",
       "      if (root.Bokeh !== undefined) {\n",
       "        clearInterval(timer);\n",
       "        embed_document(root);\n",
       "      } else {\n",
       "        attempts++;\n",
       "        if (attempts > 100) {\n",
       "          clearInterval(timer);\n",
       "          console.log(\"Bokeh: ERROR: Unable to run BokehJS code because BokehJS library is missing\");\n",
       "        }\n",
       "      }\n",
       "    }, 10, root)\n",
       "  }\n",
       "})(window);"
      ],
      "application/vnd.bokehjs_exec.v0+json": ""
     },
     "metadata": {
      "application/vnd.bokehjs_exec.v0+json": {
       "id": "2893"
      }
     },
     "output_type": "display_data"
    },
    {
     "data": {
      "text/html": [
       "\n",
       "\n",
       "\n",
       "\n",
       "\n",
       "\n",
       "  <div class=\"bk-root\" id=\"8f1215b3-c5d0-4381-ab0c-71055460fe9f\" data-root-id=\"3112\"></div>\n"
      ]
     },
     "metadata": {},
     "output_type": "display_data"
    },
    {
     "data": {
      "application/javascript": [
       "(function(root) {\n",
       "  function embed_document(root) {\n",
       "    \n",
       "  const docs_json = {\"1f2a5c54-436e-49fa-a3cb-89663a0fa96e\":{\"defs\":[],\"roots\":{\"references\":[{\"attributes\":{\"below\":[{\"id\":\"3123\"}],\"center\":[{\"id\":\"3126\"},{\"id\":\"3130\"}],\"height\":250,\"left\":[{\"id\":\"3127\"}],\"renderers\":[{\"id\":\"3149\"}],\"title\":{\"id\":\"3113\"},\"toolbar\":{\"id\":\"3138\"},\"width\":800,\"x_range\":{\"id\":\"3115\"},\"x_scale\":{\"id\":\"3119\"},\"y_range\":{\"id\":\"3117\"},\"y_scale\":{\"id\":\"3121\"}},\"id\":\"3112\",\"subtype\":\"Figure\",\"type\":\"Plot\"},{\"attributes\":{\"line_alpha\":0.1,\"line_color\":\"#1f77b4\",\"x\":{\"field\":\"x\"},\"y\":{\"field\":\"y\"}},\"id\":\"3147\",\"type\":\"Line\"},{\"attributes\":{},\"id\":\"3124\",\"type\":\"BasicTicker\"},{\"attributes\":{\"axis\":{\"id\":\"3123\"},\"coordinates\":null,\"group\":null,\"ticker\":null},\"id\":\"3126\",\"type\":\"Grid\"},{\"attributes\":{},\"id\":\"3286\",\"type\":\"BasicTickFormatter\"},{\"attributes\":{},\"id\":\"3121\",\"type\":\"LinearScale\"},{\"attributes\":{\"axis_label\":\"Episode length\",\"coordinates\":null,\"formatter\":{\"id\":\"3283\"},\"group\":null,\"major_label_policy\":{\"id\":\"3284\"},\"ticker\":{\"id\":\"3128\"}},\"id\":\"3127\",\"type\":\"LinearAxis\"},{\"attributes\":{\"coordinates\":null,\"group\":null,\"text\":\"Episode Length\"},\"id\":\"3113\",\"type\":\"Title\"},{\"attributes\":{\"axis_label\":\"Episodes\",\"coordinates\":null,\"formatter\":{\"id\":\"3286\"},\"group\":null,\"major_label_policy\":{\"id\":\"3287\"},\"ticker\":{\"id\":\"3124\"}},\"id\":\"3123\",\"type\":\"LinearAxis\"},{\"attributes\":{},\"id\":\"3117\",\"type\":\"DataRange1d\"},{\"attributes\":{},\"id\":\"3288\",\"type\":\"UnionRenderers\"},{\"attributes\":{},\"id\":\"3128\",\"type\":\"BasicTicker\"},{\"attributes\":{},\"id\":\"3132\",\"type\":\"WheelZoomTool\"},{\"attributes\":{\"axis\":{\"id\":\"3127\"},\"coordinates\":null,\"dimension\":1,\"group\":null,\"ticker\":null},\"id\":\"3130\",\"type\":\"Grid\"},{\"attributes\":{},\"id\":\"3283\",\"type\":\"BasicTickFormatter\"},{\"attributes\":{\"line_color\":\"#1f77b4\",\"x\":{\"field\":\"x\"},\"y\":{\"field\":\"y\"}},\"id\":\"3146\",\"type\":\"Line\"},{\"attributes\":{},\"id\":\"3136\",\"type\":\"HelpTool\"},{\"attributes\":{\"overlay\":{\"id\":\"3137\"}},\"id\":\"3133\",\"type\":\"BoxZoomTool\"},{\"attributes\":{},\"id\":\"3131\",\"type\":\"PanTool\"},{\"attributes\":{},\"id\":\"3287\",\"type\":\"AllLabels\"},{\"attributes\":{},\"id\":\"3134\",\"type\":\"SaveTool\"},{\"attributes\":{},\"id\":\"3135\",\"type\":\"ResetTool\"},{\"attributes\":{},\"id\":\"3119\",\"type\":\"LinearScale\"},{\"attributes\":{\"bottom_units\":\"screen\",\"coordinates\":null,\"fill_alpha\":0.5,\"fill_color\":\"lightgrey\",\"group\":null,\"left_units\":\"screen\",\"level\":\"overlay\",\"line_alpha\":1.0,\"line_color\":\"black\",\"line_dash\":[4,4],\"line_width\":2,\"right_units\":\"screen\",\"syncable\":false,\"top_units\":\"screen\"},\"id\":\"3137\",\"type\":\"BoxAnnotation\"},{\"attributes\":{},\"id\":\"3115\",\"type\":\"DataRange1d\"},{\"attributes\":{},\"id\":\"3284\",\"type\":\"AllLabels\"},{\"attributes\":{\"coordinates\":null,\"data_source\":{\"id\":\"3145\"},\"glyph\":{\"id\":\"3146\"},\"group\":null,\"hover_glyph\":null,\"muted_glyph\":{\"id\":\"3148\"},\"nonselection_glyph\":{\"id\":\"3147\"},\"view\":{\"id\":\"3150\"}},\"id\":\"3149\",\"type\":\"GlyphRenderer\"},{\"attributes\":{\"tools\":[{\"id\":\"3131\"},{\"id\":\"3132\"},{\"id\":\"3133\"},{\"id\":\"3134\"},{\"id\":\"3135\"},{\"id\":\"3136\"}]},\"id\":\"3138\",\"type\":\"Toolbar\"},{\"attributes\":{},\"id\":\"3289\",\"type\":\"Selection\"},{\"attributes\":{\"data\":{\"x\":[1,2,3,4,5,6,7,8,9,10,11,12,13,14,15,16,17,18,19,20,21,22,23,24,25,26,27,28,29,30,31,32,33,34,35,36,37,38,39,40,41,42,43,44,45,46,47,48,49,50,51,52,53,54,55,56,57,58,59,60,61,62,63,64,65,66,67,68,69,70,71,72,73,74,75,76,77,78,79,80,81,82,83,84,85,86,87,88,89,90,91,92,93,94,95,96,97,98,99,100,101,102,103,104,105,106,107,108,109,110,111,112,113,114,115,116,117,118,119,120,121,122,123,124,125,126,127,128,129,130,131,132,133,134,135,136,137,138,139,140,141,142,143,144,145,146,147,148,149,150,151,152,153,154,155,156,157,158,159,160,161,162,163,164,165,166,167,168,169,170,171,172,173,174,175,176,177,178,179,180,181,182,183,184,185,186,187,188,189,190,191,192,193,194,195,196,197,198,199,200,201,202,203,204,205,206,207,208,209,210,211,212,213,214,215,216,217,218,219,220,221,222,223,224,225,226,227,228,229,230,231,232,233,234,235,236,237,238,239,240,241,242,243,244,245,246,247,248,249,250,251,252,253,254,255,256,257,258,259,260,261,262,263,264,265,266,267,268,269,270,271,272,273,274,275,276,277,278,279,280,281,282,283,284,285,286,287,288,289,290,291,292,293,294,295,296,297,298,299,300,301,302,303,304,305,306,307,308,309,310,311,312,313,314,315,316,317,318,319,320,321,322,323,324,325,326,327,328,329,330,331,332,333,334,335,336,337,338,339,340,341,342,343,344,345,346,347,348,349,350,351,352,353,354,355,356,357,358,359,360,361,362,363,364,365,366,367,368,369,370,371,372,373,374,375,376,377,378,379,380,381,382,383,384,385,386,387,388,389,390,391,392,393,394,395,396,397,398,399,400,401,402,403,404,405,406,407,408,409,410,411,412,413,414,415,416,417,418,419,420,421,422,423,424,425,426,427,428,429,430,431,432,433,434,435,436,437,438,439,440,441,442,443,444,445,446,447,448,449,450,451,452,453,454,455,456,457,458,459,460,461,462,463,464,465,466,467,468,469,470,471,472,473,474,475,476,477,478,479,480,481,482,483,484,485,486,487,488,489,490,491,492,493,494,495,496,497,498,499,500,501,502,503,504,505,506,507,508,509,510,511,512,513,514,515,516,517,518,519,520,521,522,523,524,525,526,527,528,529,530,531,532,533,534,535,536,537,538,539,540,541,542,543,544,545,546,547,548,549,550,551,552,553,554,555,556,557,558,559,560,561,562,563,564,565,566,567,568,569,570,571,572,573,574,575,576,577,578,579,580,581,582,583,584,585,586,587,588,589,590,591,592,593,594,595,596,597,598,599,600,601,602,603,604,605,606,607,608,609,610,611,612,613,614,615,616,617,618,619,620,621,622,623,624,625,626,627,628,629,630,631,632,633,634,635,636,637,638,639,640,641,642,643,644,645,646,647,648,649,650,651,652,653,654,655,656,657,658,659,660,661,662,663,664,665,666,667,668,669,670,671,672,673,674,675,676,677,678,679,680,681,682,683,684,685,686,687,688,689,690,691,692,693,694,695,696,697,698,699,700,701,702,703,704,705,706,707,708,709,710,711,712,713,714,715,716,717,718,719,720,721,722,723,724,725,726,727,728,729,730,731,732,733,734,735,736,737,738,739,740,741,742,743,744,745,746,747,748,749,750,751,752,753,754,755,756,757,758,759,760,761,762,763,764,765,766,767,768,769,770,771,772,773,774,775,776,777,778,779,780,781,782,783,784,785,786,787,788,789,790,791,792,793,794,795,796,797,798,799,800,801,802,803,804,805,806,807,808,809,810,811,812,813,814,815,816,817,818,819,820,821,822,823,824,825,826,827,828,829,830,831,832,833,834,835,836,837,838,839,840,841,842,843,844,845,846,847,848,849,850,851,852,853,854,855,856,857,858,859,860,861,862,863,864,865,866,867,868,869,870,871,872,873,874,875,876,877,878,879,880,881,882,883,884,885,886,887,888,889,890,891,892,893,894,895,896,897,898,899,900,901,902,903,904,905,906,907,908,909,910,911,912,913,914,915,916,917,918,919,920,921,922,923,924,925,926,927,928,929,930,931,932,933,934,935,936,937,938,939,940,941,942,943,944,945,946,947,948,949,950,951,952,953,954,955,956,957,958,959,960,961,962,963,964,965,966,967,968,969,970,971,972,973,974,975,976,977,978,979,980,981,982,983,984,985,986,987,988,989,990,991,992,993,994,995,996,997,998,999,1000],\"y\":[943,107,1326,690,1622,1984,582,1150,1275,1483,389,1411,1028,1440,643,224,3283,116,465,194,2812,491,839,1092,538,631,6240,165,371,1462,309,1545,137,828,617,288,276,776,1173,752,2046,108,1358,1029,885,856,2323,813,137,2797,1309,1122,251,746,81,1021,687,51,708,534,295,901,2215,332,684,648,630,2121,718,177,684,871,147,481,331,510,79,2120,920,218,561,683,754,691,446,620,431,77,277,101,811,1003,825,296,98,215,735,1376,160,158,200,149,42,315,1168,1109,451,151,540,423,424,56,550,581,526,135,719,360,760,215,208,413,1540,1360,500,882,675,275,839,46,349,175,279,262,701,506,588,340,682,670,174,188,193,478,802,165,421,563,547,504,159,100,98,268,558,915,252,454,94,308,135,102,249,259,565,509,232,525,425,153,89,148,117,257,91,890,88,558,382,445,170,109,106,649,206,1439,69,627,215,453,1039,548,1000,227,19,248,179,315,20,154,147,65,196,525,472,530,228,174,198,54,447,160,246,293,184,150,136,108,157,389,86,393,214,220,992,91,265,179,556,198,65,822,320,85,93,162,270,113,332,947,108,38,653,350,260,113,563,279,378,276,707,358,251,136,382,638,103,379,1309,726,414,163,492,110,115,323,351,163,114,789,481,602,200,30,190,308,856,228,435,325,438,50,272,637,137,232,382,189,208,406,100,135,383,34,70,87,393,256,268,324,159,256,331,241,77,278,160,197,490,116,43,112,310,214,40,162,252,167,579,195,219,804,167,174,80,62,443,99,260,85,61,51,330,248,179,298,426,328,272,278,103,232,83,271,155,207,273,391,498,148,443,310,404,211,308,170,495,95,114,118,300,253,214,173,148,78,177,303,271,170,300,144,117,474,435,123,43,199,145,170,139,206,192,220,139,330,167,240,314,408,318,1079,218,131,250,325,89,283,41,501,173,201,309,397,129,159,133,373,507,381,117,156,681,382,78,244,153,147,158,109,111,148,95,539,216,88,369,124,84,141,192,118,196,297,69,226,27,145,49,167,260,115,374,28,425,191,271,204,32,294,236,293,304,267,210,186,71,55,264,236,522,302,158,151,256,159,71,162,203,197,162,136,217,173,23,337,259,277,41,336,239,150,299,193,373,140,298,165,145,190,153,70,164,141,124,303,147,63,250,179,218,596,238,682,307,23,165,91,224,80,304,51,136,311,78,208,96,284,218,112,58,310,292,301,187,45,50,782,95,654,98,146,120,183,209,138,91,156,132,99,185,192,145,168,173,45,171,91,231,117,195,286,120,503,361,250,207,262,351,143,140,183,118,103,167,400,390,357,150,386,260,123,590,84,547,539,407,322,216,253,25,198,106,443,333,81,84,144,546,271,311,206,202,168,94,249,161,247,171,163,351,273,360,247,113,160,90,59,242,141,166,252,271,142,107,178,95,344,93,309,273,100,202,141,195,177,70,124,118,214,321,165,80,232,473,315,255,176,235,500,187,108,307,529,94,262,283,39,245,132,111,71,149,483,334,149,268,377,430,122,362,193,414,286,287,72,275,229,138,757,202,432,376,199,280,229,140,657,199,88,108,369,107,205,221,137,274,294,268,193,272,153,550,222,88,404,94,159,834,573,304,109,171,171,153,199,176,192,155,110,233,53,940,80,175,229,186,265,151,232,131,108,216,401,352,117,128,176,482,319,260,271,335,303,321,145,280,39,200,59,74,106,138,131,164,205,163,77,299,322,290,1064,115,167,174,414,124,320,196,381,195,88,371,154,355,116,111,203,207,128,699,145,120,74,210,45,133,86,98,110,547,450,85,584,210,169,326,106,317,89,178,93,240,205,504,397,197,300,73,81,166,198,240,138,81,150,293,392,90,43,328,234,298,861,142,76,72,287,35,297,151,102,315,135,222,448,265,127,183,291,170,380,62,173,119,345,267,142,136,169,310,48,221,160,139,193,331,396,191,161,371,126,99,382,96,127,250,218,89,682,461,179,118,206,162,102,175,110,259,410,202,104,95,177,200,88,584,146,138,957,36,231,87,171,77,60,143,134,164,59,265,199,478,423,244,366,105,93,54,95,274,165,301,45,229,141,142,284,60,35,498,290,401,465,123,192,228,90,248,286,298,182,328,149,232,522,140,319,380,229,578,187,147,307,174,71,117,43,221,73,597,110,188,42,511,452,258,77,278,198,123,452,60,151,223,193,193,165,136,276,842,210,203,196,228,104,170,274,83,183,248,230,102,262,224,282,235,300,247,556,91,62,221,136,285,270,300,74,132,105,47,345,82,363,199,130,780,132,84,65]},\"selected\":{\"id\":\"3289\"},\"selection_policy\":{\"id\":\"3288\"}},\"id\":\"3145\",\"type\":\"ColumnDataSource\"},{\"attributes\":{\"source\":{\"id\":\"3145\"}},\"id\":\"3150\",\"type\":\"CDSView\"},{\"attributes\":{\"line_alpha\":0.2,\"line_color\":\"#1f77b4\",\"x\":{\"field\":\"x\"},\"y\":{\"field\":\"y\"}},\"id\":\"3148\",\"type\":\"Line\"}],\"root_ids\":[\"3112\"]},\"title\":\"Bokeh Application\",\"version\":\"2.4.2\"}};\n",
       "  const render_items = [{\"docid\":\"1f2a5c54-436e-49fa-a3cb-89663a0fa96e\",\"root_ids\":[\"3112\"],\"roots\":{\"3112\":\"8f1215b3-c5d0-4381-ab0c-71055460fe9f\"}}];\n",
       "  root.Bokeh.embed.embed_items_notebook(docs_json, render_items);\n",
       "\n",
       "  }\n",
       "  if (root.Bokeh !== undefined) {\n",
       "    embed_document(root);\n",
       "  } else {\n",
       "    let attempts = 0;\n",
       "    const timer = setInterval(function(root) {\n",
       "      if (root.Bokeh !== undefined) {\n",
       "        clearInterval(timer);\n",
       "        embed_document(root);\n",
       "      } else {\n",
       "        attempts++;\n",
       "        if (attempts > 100) {\n",
       "          clearInterval(timer);\n",
       "          console.log(\"Bokeh: ERROR: Unable to run BokehJS code because BokehJS library is missing\");\n",
       "        }\n",
       "      }\n",
       "    }, 10, root)\n",
       "  }\n",
       "})(window);"
      ],
      "application/vnd.bokehjs_exec.v0+json": ""
     },
     "metadata": {
      "application/vnd.bokehjs_exec.v0+json": {
       "id": "3112"
      }
     },
     "output_type": "display_data"
    }
   ],
   "source": [
    "vis = Visualizer(evaluator)\n",
    "\n",
    "show(vis.plot_sum_of_rewards())\n",
    "show(vis.plot_episode_len())"
   ]
  },
  {
   "cell_type": "code",
   "execution_count": null,
   "id": "9f4c7f05-f2c1-4d8a-8868-0e7d4e599a3b",
   "metadata": {},
   "outputs": [],
   "source": []
  }
 ],
 "metadata": {
  "kernelspec": {
   "display_name": "Python 3 (ipykernel)",
   "language": "python",
   "name": "python3"
  },
  "language_info": {
   "codemirror_mode": {
    "name": "ipython",
    "version": 3
   },
   "file_extension": ".py",
   "mimetype": "text/x-python",
   "name": "python",
   "nbconvert_exporter": "python",
   "pygments_lexer": "ipython3",
   "version": "3.10.1"
  }
 },
 "nbformat": 4,
 "nbformat_minor": 5
}
